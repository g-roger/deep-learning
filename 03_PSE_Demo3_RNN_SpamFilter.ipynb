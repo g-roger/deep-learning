{
  "nbformat": 4,
  "nbformat_minor": 0,
  "metadata": {
    "colab": {
      "name": "03_PSE_Demo3_RNN_SpamFilter.ipynb",
      "provenance": [],
      "collapsed_sections": [],
      "include_colab_link": true
    },
    "kernelspec": {
      "name": "python3",
      "display_name": "Python 3"
    },
    "accelerator": "GPU"
  },
  "cells": [
    {
      "cell_type": "markdown",
      "metadata": {
        "id": "view-in-github",
        "colab_type": "text"
      },
      "source": [
        "<a href=\"https://colab.research.google.com/github/g-roger/deep-learning/blob/master/03_PSE_Demo3_RNN_SpamFilter.ipynb\" target=\"_parent\"><img src=\"https://colab.research.google.com/assets/colab-badge.svg\" alt=\"Open In Colab\"/></a>"
      ]
    },
    {
      "cell_type": "markdown",
      "metadata": {
        "id": "0UFqiLKTva3f"
      },
      "source": [
        "# Power Skill Extensions - Leading Technology Transformation - Applied Machine Learning - Recurrent Neural Networks (RNNs)\n",
        "\n",
        "##Exercício de fixação IV - Recurrent Neural Networks usando Keras e a base SMS Spam Collection Data (mensagens spam rotuladas)\n",
        "\n",
        "### Profs. Ahirton Lopes, Felipe Teodoro e Vinicius Soares"
      ]
    },
    {
      "cell_type": "code",
      "metadata": {
        "id": "YftvC61ju484"
      },
      "source": [
        "from keras.layers import SimpleRNN, LSTM, GRU, Embedding, Dense, Flatten\n",
        "from keras.models import Sequential\n",
        "from keras.preprocessing.text import Tokenizer\n",
        "from keras.preprocessing.sequence import pad_sequences\n",
        "from keras.utils.vis_utils import plot_model\n",
        "\n",
        "import pandas as pd\n",
        "import numpy as np\n",
        "import matplotlib.pyplot as plt\n",
        "import numpy as np"
      ],
      "execution_count": null,
      "outputs": []
    },
    {
      "cell_type": "code",
      "metadata": {
        "id": "bkqHpovUu-yd"
      },
      "source": [
        "def message_to_array(msg):\n",
        "    msg = msg.lower().split(' ')\n",
        "    test_seq = np.array([word_index[word] for word in msg])\n",
        "\n",
        "    test_seq = np.pad(test_seq, (500-len(test_seq), 0), 'constant', constant_values=(0))\n",
        "    test_seq = test_seq.reshape(1, 500)\n",
        "    return test_seq"
      ],
      "execution_count": null,
      "outputs": []
    },
    {
      "cell_type": "markdown",
      "metadata": {
        "id": "r3hruwWJk0fW"
      },
      "source": [
        "### Carregando a base SMS Spam Collection Data (sms rotulados em spam e ham)\n",
        "\n",
        "*** Mais informações em https://www.kaggle.com/uciml/sms-spam-collection-dataset e https://archive.ics.uci.edu/ml/datasets/sms+spam+collection ***"
      ]
    },
    {
      "cell_type": "code",
      "metadata": {
        "id": "g2ZrsckFvq-U",
        "colab": {
          "resources": {
            "http://localhost:8080/nbextensions/google.colab/files.js": {
              "data": "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",
              "ok": true,
              "headers": [
                [
                  "content-type",
                  "application/javascript"
                ]
              ],
              "status": 200,
              "status_text": ""
            }
          },
          "base_uri": "https://localhost:8080/",
          "height": 86
        },
        "outputId": "e19b23ed-1542-4f21-cf63-268f5ca9fdab"
      },
      "source": [
        "from google.colab import files\n",
        "\n",
        "uploaded = files.upload()\n",
        "\n",
        "for fn in uploaded.keys():\n",
        "  print('Arquivo de nome \"{name}\" de tamanho {length} bytes'.format(\n",
        "      name=fn, length=len(uploaded[fn])))"
      ],
      "execution_count": null,
      "outputs": [
        {
          "output_type": "display_data",
          "data": {
            "text/html": [
              "\n",
              "     <input type=\"file\" id=\"files-ca6f01ac-1908-4433-b686-54f5e7f3b85e\" name=\"files[]\" multiple disabled\n",
              "        style=\"border:none\" />\n",
              "     <output id=\"result-ca6f01ac-1908-4433-b686-54f5e7f3b85e\">\n",
              "      Upload widget is only available when the cell has been executed in the\n",
              "      current browser session. Please rerun this cell to enable.\n",
              "      </output>\n",
              "      <script src=\"/nbextensions/google.colab/files.js\"></script> "
            ],
            "text/plain": [
              "<IPython.core.display.HTML object>"
            ]
          },
          "metadata": {}
        },
        {
          "output_type": "stream",
          "name": "stdout",
          "text": [
            "Saving spam_data.csv to spam_data.csv\n",
            "Arquivo de nome \"spam_data.csv\" de tamanho 485703 bytes\n"
          ]
        }
      ]
    },
    {
      "cell_type": "code",
      "metadata": {
        "id": "dfbJaVJavPh5"
      },
      "source": [
        "# Importando nossos dados a partir do arquivo .csv\n",
        "\n",
        "data = pd.read_csv('spam_data.csv', sep=',')"
      ],
      "execution_count": null,
      "outputs": []
    },
    {
      "cell_type": "markdown",
      "metadata": {
        "id": "eU9GyNPHlfbF"
      },
      "source": [
        "## Pré processamento de mensagens e rótulos"
      ]
    },
    {
      "cell_type": "code",
      "metadata": {
        "id": "n6MKnJbrwo5g"
      },
      "source": [
        "messages = []\n",
        "labels = []\n",
        "\n",
        "for index, row in data.iterrows():\n",
        "    messages.append(row['Message'])\n",
        "    if row['Category'] == 'ham': # classificando em 0 e 1\n",
        "        labels.append(0)\n",
        "    else:\n",
        "        labels.append(1)"
      ],
      "execution_count": null,
      "outputs": []
    },
    {
      "cell_type": "code",
      "metadata": {
        "id": "SEAeTE8FwzG0",
        "colab": {
          "base_uri": "https://localhost:8080/"
        },
        "outputId": "08c57b03-e9c3-48ef-f8a8-70850e8495f2"
      },
      "source": [
        "text_data_train = np.asarray(messages)\n",
        "text_data_target = np.asarray(labels)\n",
        "\n",
        "print(\"Numero de mensagens: \", len(messages))\n",
        "print(\"Numero de rotulos: \", len(labels))"
      ],
      "execution_count": null,
      "outputs": [
        {
          "output_type": "stream",
          "name": "stdout",
          "text": [
            "Numero de mensagens:  5572\n",
            "Numero de rotulos:  5572\n"
          ]
        }
      ]
    },
    {
      "cell_type": "markdown",
      "metadata": {
        "id": "_Eae1j77lnxI"
      },
      "source": [
        "## Verificando o formato de nossas mensagens e rótulos"
      ]
    },
    {
      "cell_type": "code",
      "metadata": {
        "id": "r4Y6UKo-3jJ2",
        "colab": {
          "base_uri": "https://localhost:8080/"
        },
        "outputId": "72423f51-3548-490c-8d83-930f0d341c75"
      },
      "source": [
        "text_data_train[:5]"
      ],
      "execution_count": null,
      "outputs": [
        {
          "output_type": "execute_result",
          "data": {
            "text/plain": [
              "array(['Go until jurong point, crazy.. Available only in bugis n great world la e buffet... Cine there got amore wat...',\n",
              "       'Ok lar... Joking wif u oni...',\n",
              "       \"Free entry in 2 a wkly comp to win FA Cup final tkts 21st May 2005. Text FA to 87121 to receive entry question(std txt rate)T&C's apply 08452810075over18's\",\n",
              "       'U dun say so early hor... U c already then say...',\n",
              "       \"Nah I don't think he goes to usf, he lives around here though\"],\n",
              "      dtype='<U910')"
            ]
          },
          "metadata": {},
          "execution_count": 7
        }
      ]
    },
    {
      "cell_type": "code",
      "metadata": {
        "id": "iUfKWZdf3ouG",
        "colab": {
          "base_uri": "https://localhost:8080/"
        },
        "outputId": "cb043d64-308b-43b7-c5b0-f1e5402d9656"
      },
      "source": [
        "text_data_target[:5]"
      ],
      "execution_count": null,
      "outputs": [
        {
          "output_type": "execute_result",
          "data": {
            "text/plain": [
              "array([0, 0, 1, 0, 0])"
            ]
          },
          "metadata": {},
          "execution_count": 8
        }
      ]
    },
    {
      "cell_type": "markdown",
      "metadata": {
        "id": "XxLRgFVilzfT"
      },
      "source": [
        "## Processamento de nosso vocabulário"
      ]
    },
    {
      "cell_type": "code",
      "metadata": {
        "id": "Gm6kP3Tkw-HX",
        "colab": {
          "base_uri": "https://localhost:8080/"
        },
        "outputId": "97b259b9-1714-4a27-d964-81ea46612e7a"
      },
      "source": [
        "max_vocab = 10000 # Ignorando todas as palavras, exceto as 10.000 palavras mais comuns em nosso vocabulário\n",
        "max_len = 500 # max_len especifica o comprimento máximo da sequência (que é truncada se for longa, e preenchida - via padding - se mais curta)\n",
        "\n",
        "tokenizer = Tokenizer(num_words=max_vocab)\n",
        "\n",
        "# Calculando a frequência das palavras em nossos dados de treinamento\n",
        "\n",
        "tokenizer.fit_on_texts(text_data_train)\n",
        "\n",
        "# Convertendo um array de mensagens para uma lista de sequências de inteiros\n",
        "\n",
        "sequences = tokenizer.texts_to_sequences(text_data_train)\n",
        "\n",
        "# Criação de dicionário afim de registrar as palavras para um índice do tipo inteiro\n",
        "\n",
        "word_index = tokenizer.word_index\n",
        "\n",
        "# Convertendo a matriz de sequências de inteiros em uma matriz 2D (com preenchimento, quando necessário)\n",
        "\n",
        "data = pad_sequences(sequences, maxlen=max_len)\n",
        "\n",
        "print(\"data shape: \", data.shape)"
      ],
      "execution_count": null,
      "outputs": [
        {
          "output_type": "stream",
          "name": "stdout",
          "text": [
            "data shape:  (5572, 500)\n"
          ]
        }
      ]
    },
    {
      "cell_type": "markdown",
      "metadata": {
        "id": "UfmXfHGQl5An"
      },
      "source": [
        "## Dividindo o dataset em treinamento e validação"
      ]
    },
    {
      "cell_type": "code",
      "metadata": {
        "id": "gs6SAjxSxcQx"
      },
      "source": [
        "# Usando 80% dos dados disponíveis para treinamento e validação (80% treinamento, 20% validação), bem como 20% para teste\n",
        "\n",
        "train_samples = int(len(text_data_train)*0.8)\n",
        "\n",
        "messages_train = data[:train_samples]\n",
        "labels_train = text_data_target[:train_samples]\n",
        "\n",
        "messages_test = data[train_samples:len(text_data_train)-2]\n",
        "labels_test = text_data_target[train_samples:len(text_data_train)-2]\n",
        "\n",
        "embedding_mat_columns=32"
      ],
      "execution_count": null,
      "outputs": []
    },
    {
      "cell_type": "markdown",
      "metadata": {
        "id": "Cm6Eiay_mCZe"
      },
      "source": [
        "## Definindo a arquitetura do modelo (IMPORTANTE!)\n",
        "\n",
        "* 3 camadas (Camadas de Embedding, Camada RNN Simples e Densa);\n",
        "* Uma última camada do tipo totalmente conectada contendo 1 neurônio."
      ]
    },
    {
      "cell_type": "code",
      "metadata": {
        "id": "KQrMlpSKxfa8"
      },
      "source": [
        "# Construindo nosso modelo de RNN Simples (via camada SimpleRNN)\n",
        "\n",
        "model = Sequential()\n",
        "\n",
        "# Utilização de camada de Embedding tendo em vista converter a codificação de inteiros em embeddings de palavras\n",
        "# O modelo vai então aprender a partir da matriz de embedding durante o treinamento;\n",
        "\n",
        "model.add(Embedding(input_dim=max_vocab, output_dim=embedding_mat_columns, input_length=max_len)) # A matriz de embedding contém max_vocab como número de linhas e o número de colunas escolhido\n",
        "\n",
        "model.add(SimpleRNN(units=embedding_mat_columns))\n",
        "\n",
        "# Após o descrito na Aula 6, testem com novas arquiteturas de camadas (RNNs, LSTMs e GRUs Bidirecionais e stackings) (!)\n",
        "\n",
        "#model.add(LSTM(units=embedding_mat_columns))\n",
        "#model.add(GRU(units=embedding_mat_columns))\n",
        "\n",
        "model.add(Dense(1, activation='sigmoid'))"
      ],
      "execution_count": null,
      "outputs": []
    },
    {
      "cell_type": "markdown",
      "metadata": {
        "id": "G3ERDDXRmvjA"
      },
      "source": [
        "## Compilando o modelo"
      ]
    },
    {
      "cell_type": "code",
      "metadata": {
        "id": "Ojcp_atkxhx8",
        "colab": {
          "base_uri": "https://localhost:8080/"
        },
        "outputId": "8abdc711-50ee-48af-aa85-6125e8d81ebe"
      },
      "source": [
        "model.compile(optimizer='rmsprop', loss='binary_crossentropy', metrics=['acc'])\n",
        "model.summary()"
      ],
      "execution_count": null,
      "outputs": [
        {
          "output_type": "stream",
          "name": "stdout",
          "text": [
            "Model: \"sequential\"\n",
            "_________________________________________________________________\n",
            "Layer (type)                 Output Shape              Param #   \n",
            "=================================================================\n",
            "embedding (Embedding)        (None, 500, 32)           320000    \n",
            "_________________________________________________________________\n",
            "simple_rnn (SimpleRNN)       (None, 32)                2080      \n",
            "_________________________________________________________________\n",
            "dense (Dense)                (None, 1)                 33        \n",
            "=================================================================\n",
            "Total params: 322,113\n",
            "Trainable params: 322,113\n",
            "Non-trainable params: 0\n",
            "_________________________________________________________________\n"
          ]
        }
      ]
    },
    {
      "cell_type": "markdown",
      "metadata": {
        "id": "6TYFZnYbmz0p"
      },
      "source": [
        "## Verificando nosso nosso modelo "
      ]
    },
    {
      "cell_type": "code",
      "metadata": {
        "id": "kGppbyOUxlRL",
        "colab": {
          "base_uri": "https://localhost:8080/",
          "height": 422
        },
        "outputId": "fc5d68d4-85df-43bf-ae7b-e49748f16f5b"
      },
      "source": [
        "plot_model(model, to_file='model.png', show_shapes=True, show_layer_names=True)"
      ],
      "execution_count": null,
      "outputs": [
        {
          "output_type": "execute_result",
          "data": {
            "image/png": "[encoded data removed]",
            "text/plain": [
              "<IPython.core.display.Image object>"
            ]
          },
          "metadata": {},
          "execution_count": 13
        }
      ]
    },
    {
      "cell_type": "markdown",
      "metadata": {
        "id": "yUHp6nrdm-5G"
      },
      "source": [
        "## Treinamento de nosso modelo"
      ]
    },
    {
      "cell_type": "code",
      "metadata": {
        "id": "J35_0idkxnh7",
        "colab": {
          "base_uri": "https://localhost:8080/"
        },
        "outputId": "568050c4-84b9-42ed-f6b7-18455b7be28f"
      },
      "source": [
        "model.fit(messages_train, labels_train, epochs=50, batch_size=64, validation_split=0.2)"
      ],
      "execution_count": null,
      "outputs": [
        {
          "output_type": "stream",
          "name": "stdout",
          "text": [
            "Epoch 1/50\n",
            "56/56 [==============================] - 38s 616ms/step - loss: 0.2900 - acc: 0.9001 - val_loss: 0.1153 - val_acc: 0.9641\n",
            "Epoch 2/50\n",
            "56/56 [==============================] - 34s 605ms/step - loss: 0.0914 - acc: 0.9736 - val_loss: 0.0813 - val_acc: 0.9765\n",
            "Epoch 3/50\n",
            "56/56 [==============================] - 34s 600ms/step - loss: 0.0535 - acc: 0.9837 - val_loss: 0.0547 - val_acc: 0.9832\n",
            "Epoch 4/50\n",
            "56/56 [==============================] - 34s 605ms/step - loss: 0.0441 - acc: 0.9868 - val_loss: 0.1066 - val_acc: 0.9652\n",
            "Epoch 5/50\n",
            "56/56 [==============================] - 34s 602ms/step - loss: 0.0347 - acc: 0.9893 - val_loss: 0.0565 - val_acc: 0.9843\n",
            "Epoch 6/50\n",
            "56/56 [==============================] - 34s 603ms/step - loss: 0.0417 - acc: 0.9837 - val_loss: 0.1270 - val_acc: 0.9518\n",
            "Epoch 7/50\n",
            "56/56 [==============================] - 34s 603ms/step - loss: 0.0414 - acc: 0.9868 - val_loss: 0.0796 - val_acc: 0.9787\n",
            "Epoch 8/50\n",
            "56/56 [==============================] - 33s 597ms/step - loss: 0.0140 - acc: 0.9955 - val_loss: 0.0679 - val_acc: 0.9776\n",
            "Epoch 9/50\n",
            "56/56 [==============================] - 33s 597ms/step - loss: 0.0103 - acc: 0.9969 - val_loss: 0.0731 - val_acc: 0.9798\n",
            "Epoch 10/50\n",
            "56/56 [==============================] - 34s 603ms/step - loss: 0.0188 - acc: 0.9930 - val_loss: 0.1173 - val_acc: 0.9596\n",
            "Epoch 11/50\n",
            "56/56 [==============================] - 34s 599ms/step - loss: 0.0131 - acc: 0.9961 - val_loss: 0.0905 - val_acc: 0.9765\n",
            "Epoch 12/50\n",
            "56/56 [==============================] - 34s 599ms/step - loss: 0.0035 - acc: 0.9992 - val_loss: 0.1057 - val_acc: 0.9652\n",
            "Epoch 13/50\n",
            "56/56 [==============================] - 33s 597ms/step - loss: 0.0021 - acc: 0.9994 - val_loss: 0.1059 - val_acc: 0.9697\n",
            "Epoch 14/50\n",
            "56/56 [==============================] - 34s 601ms/step - loss: 0.0055 - acc: 0.9983 - val_loss: 0.1142 - val_acc: 0.9709\n",
            "Epoch 15/50\n",
            "56/56 [==============================] - 34s 602ms/step - loss: 9.5160e-04 - acc: 1.0000 - val_loss: 0.1092 - val_acc: 0.9765\n",
            "Epoch 16/50\n",
            "56/56 [==============================] - 34s 604ms/step - loss: 3.1349e-04 - acc: 1.0000 - val_loss: 0.1296 - val_acc: 0.9776\n",
            "Epoch 17/50\n",
            "56/56 [==============================] - 33s 593ms/step - loss: 2.2254e-04 - acc: 1.0000 - val_loss: 0.1379 - val_acc: 0.9697\n",
            "Epoch 18/50\n",
            "56/56 [==============================] - 34s 600ms/step - loss: 1.4453e-04 - acc: 1.0000 - val_loss: 0.1500 - val_acc: 0.9753\n",
            "Epoch 19/50\n",
            "56/56 [==============================] - 34s 601ms/step - loss: 0.0040 - acc: 0.9989 - val_loss: 0.2063 - val_acc: 0.9720\n",
            "Epoch 20/50\n",
            "56/56 [==============================] - 34s 607ms/step - loss: 0.0135 - acc: 0.9941 - val_loss: 0.1372 - val_acc: 0.9765\n",
            "Epoch 21/50\n",
            "56/56 [==============================] - 34s 601ms/step - loss: 5.4380e-05 - acc: 1.0000 - val_loss: 0.1382 - val_acc: 0.9787\n",
            "Epoch 22/50\n",
            "56/56 [==============================] - 34s 604ms/step - loss: 3.6683e-05 - acc: 1.0000 - val_loss: 0.1480 - val_acc: 0.9776\n",
            "Epoch 23/50\n",
            "56/56 [==============================] - 34s 608ms/step - loss: 9.7689e-05 - acc: 1.0000 - val_loss: 0.1566 - val_acc: 0.9765\n",
            "Epoch 24/50\n",
            "56/56 [==============================] - 34s 602ms/step - loss: 8.4621e-06 - acc: 1.0000 - val_loss: 0.1637 - val_acc: 0.9753\n",
            "Epoch 25/50\n",
            "56/56 [==============================] - 34s 604ms/step - loss: 6.3979e-06 - acc: 1.0000 - val_loss: 0.1797 - val_acc: 0.9731\n",
            "Epoch 26/50\n",
            "56/56 [==============================] - 34s 602ms/step - loss: 3.7913e-06 - acc: 1.0000 - val_loss: 0.1937 - val_acc: 0.9720\n",
            "Epoch 27/50\n",
            "56/56 [==============================] - 33s 596ms/step - loss: 5.3346e-06 - acc: 1.0000 - val_loss: 0.2060 - val_acc: 0.9709\n",
            "Epoch 28/50\n",
            "56/56 [==============================] - 33s 598ms/step - loss: 2.4133e-06 - acc: 1.0000 - val_loss: 0.2131 - val_acc: 0.9720\n",
            "Epoch 29/50\n",
            "56/56 [==============================] - 34s 601ms/step - loss: 8.2260e-07 - acc: 1.0000 - val_loss: 0.2351 - val_acc: 0.9720\n",
            "Epoch 30/50\n",
            "56/56 [==============================] - 34s 599ms/step - loss: 6.6096e-05 - acc: 1.0000 - val_loss: 0.2570 - val_acc: 0.9709\n",
            "Epoch 31/50\n",
            "56/56 [==============================] - 34s 602ms/step - loss: 5.3360e-07 - acc: 1.0000 - val_loss: 0.2430 - val_acc: 0.9720\n",
            "Epoch 32/50\n",
            "56/56 [==============================] - 33s 598ms/step - loss: 2.5041e-07 - acc: 1.0000 - val_loss: 0.2627 - val_acc: 0.9709\n",
            "Epoch 33/50\n",
            "56/56 [==============================] - 33s 598ms/step - loss: 5.7562e-04 - acc: 0.9997 - val_loss: 0.2773 - val_acc: 0.9652\n",
            "Epoch 34/50\n",
            "56/56 [==============================] - 34s 599ms/step - loss: 0.0012 - acc: 0.9994 - val_loss: 0.2952 - val_acc: 0.9619\n",
            "Epoch 35/50\n",
            "56/56 [==============================] - 34s 599ms/step - loss: 2.7027e-06 - acc: 1.0000 - val_loss: 0.2773 - val_acc: 0.9630\n",
            "Epoch 36/50\n",
            "56/56 [==============================] - 33s 585ms/step - loss: 4.4745e-06 - acc: 1.0000 - val_loss: 0.2679 - val_acc: 0.9720\n",
            "Epoch 37/50\n",
            "56/56 [==============================] - 33s 591ms/step - loss: 0.0015 - acc: 0.9994 - val_loss: 0.2712 - val_acc: 0.9697\n",
            "Epoch 38/50\n",
            "56/56 [==============================] - 33s 592ms/step - loss: 3.3994e-07 - acc: 1.0000 - val_loss: 0.2673 - val_acc: 0.9697\n",
            "Epoch 39/50\n",
            "56/56 [==============================] - 33s 591ms/step - loss: 1.4169e-07 - acc: 1.0000 - val_loss: 0.2634 - val_acc: 0.9720\n",
            "Epoch 40/50\n",
            "56/56 [==============================] - 33s 595ms/step - loss: 0.0022 - acc: 0.9994 - val_loss: 0.2688 - val_acc: 0.9776\n",
            "Epoch 41/50\n",
            "56/56 [==============================] - 33s 593ms/step - loss: 0.0423 - acc: 0.9913 - val_loss: 0.3022 - val_acc: 0.9664\n",
            "Epoch 42/50\n",
            "56/56 [==============================] - 33s 593ms/step - loss: 0.0060 - acc: 0.9992 - val_loss: 0.1997 - val_acc: 0.9697\n",
            "Epoch 43/50\n",
            "56/56 [==============================] - 33s 596ms/step - loss: 6.8999e-07 - acc: 1.0000 - val_loss: 0.2051 - val_acc: 0.9675\n",
            "Epoch 44/50\n",
            "56/56 [==============================] - 33s 590ms/step - loss: 7.1677e-07 - acc: 1.0000 - val_loss: 0.2135 - val_acc: 0.9686\n",
            "Epoch 45/50\n",
            "56/56 [==============================] - 33s 582ms/step - loss: 6.5434e-07 - acc: 1.0000 - val_loss: 0.2238 - val_acc: 0.9697\n",
            "Epoch 46/50\n",
            "56/56 [==============================] - 33s 597ms/step - loss: 1.8913e-04 - acc: 1.0000 - val_loss: 0.2294 - val_acc: 0.9720\n",
            "Epoch 47/50\n",
            "56/56 [==============================] - 33s 596ms/step - loss: 9.0013e-04 - acc: 0.9997 - val_loss: 0.2393 - val_acc: 0.9697\n",
            "Epoch 48/50\n",
            "56/56 [==============================] - 33s 597ms/step - loss: 2.2568e-07 - acc: 1.0000 - val_loss: 0.2409 - val_acc: 0.9697\n",
            "Epoch 49/50\n",
            "56/56 [==============================] - 33s 591ms/step - loss: 3.2626e-07 - acc: 1.0000 - val_loss: 0.2727 - val_acc: 0.9619\n",
            "Epoch 50/50\n",
            "56/56 [==============================] - 33s 593ms/step - loss: 7.7018e-06 - acc: 1.0000 - val_loss: 0.2629 - val_acc: 0.9686\n"
          ]
        },
        {
          "output_type": "execute_result",
          "data": {
            "text/plain": [
              "<keras.callbacks.History at 0x7f9f267b4ed0>"
            ]
          },
          "metadata": {},
          "execution_count": 14
        }
      ]
    },
    {
      "cell_type": "markdown",
      "metadata": {
        "id": "wkLEa97WnFJj"
      },
      "source": [
        "## Teste de nosso modelo"
      ]
    },
    {
      "cell_type": "code",
      "metadata": {
        "id": "r2a9aArFxqD9",
        "colab": {
          "base_uri": "https://localhost:8080/"
        },
        "outputId": "1c3b16c8-43aa-4577-be69-d0df48aa9727"
      },
      "source": [
        "prediction = model.predict(messages_test)\n",
        "accuracy = model.evaluate(messages_test, labels_test)\n",
        "print(\"Perda em teste {0:.2f} acuracia eh {1:.2f}  \".format(accuracy[0],accuracy[1]))"
      ],
      "execution_count": null,
      "outputs": [
        {
          "output_type": "stream",
          "name": "stdout",
          "text": [
            "35/35 [==============================] - 2s 47ms/step - loss: 0.2375 - acc: 0.9757\n",
            "Perda em teste 0.24 acuracia eh 0.98  \n"
          ]
        }
      ]
    },
    {
      "cell_type": "code",
      "metadata": {
        "id": "2JcyEZ6LxsPs",
        "colab": {
          "base_uri": "https://localhost:8080/"
        },
        "outputId": "2650f29d-b8b4-4b5f-86b7-736a82d26887"
      },
      "source": [
        "# Construindo mensagem personalizada para teste rápido\n",
        "\n",
        "#custom_msg = 'Hi how are you'\n",
        "custom_msg = 'Free entry in 2 a wkly comp to win FA Cup final tkts 21st May Text FA to 87121 to receive entry question'\n",
        "\n",
        "test_seq = message_to_array(custom_msg)\n",
        "prediction = (model.predict(test_seq) > 0.5).astype(\"int32\")\n",
        "print(prediction)  #[1] para spam [0] para nao spam (ham)"
      ],
      "execution_count": null,
      "outputs": [
        {
          "output_type": "stream",
          "name": "stdout",
          "text": [
            "[[1]]\n"
          ]
        }
      ]
    }
  ]
}