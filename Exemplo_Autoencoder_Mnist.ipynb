{
  "nbformat": 4,
  "nbformat_minor": 0,
  "metadata": {
    "colab": {
      "name": "Cópia de Exemplo Autoencoder Mnist.ipynb",
      "provenance": [],
      "collapsed_sections": [],
      "include_colab_link": true
    },
    "kernelspec": {
      "name": "python3",
      "display_name": "Python 3"
    },
    "language_info": {
      "name": "python"
    },
    "accelerator": "GPU"
  },
  "cells": [
    {
      "cell_type": "markdown",
      "metadata": {
        "id": "view-in-github",
        "colab_type": "text"
      },
      "source": [
        "<a href=\"https://colab.research.google.com/github/g-roger/deep-learning/blob/master/Exemplo_Autoencoder_Mnist.ipynb\" target=\"_parent\"><img src=\"https://colab.research.google.com/assets/colab-badge.svg\" alt=\"Open In Colab\"/></a>"
      ]
    },
    {
      "cell_type": "code",
      "metadata": {
        "id": "0YrL80Moetvv"
      },
      "source": [
        "from keras.datasets import mnist\n",
        "from keras.layers import Input, Dense\n",
        "from keras.models import Model\n",
        "import numpy as np\n",
        "import matplotlib.pyplot as plt"
      ],
      "execution_count": 1,
      "outputs": []
    },
    {
      "cell_type": "code",
      "metadata": {
        "id": "WP9tiRGajCPJ",
        "colab": {
          "base_uri": "https://localhost:8080/"
        },
        "outputId": "3a7f57fd-cd61-4adf-f9bc-713b1e50e0a0"
      },
      "source": [
        "(X_train, _), (X_test, _) = mnist.load_data()"
      ],
      "execution_count": 2,
      "outputs": [
        {
          "output_type": "stream",
          "name": "stdout",
          "text": [
            "Downloading data from https://storage.googleapis.com/tensorflow/tf-keras-datasets/mnist.npz\n",
            "11493376/11490434 [==============================] - 0s 0us/step\n",
            "11501568/11490434 [==============================] - 0s 0us/step\n"
          ]
        }
      ]
    },
    {
      "cell_type": "code",
      "metadata": {
        "id": "Q2bQ603YjDsi"
      },
      "source": [
        "X_train = X_train.astype('float32')/255\n",
        "X_test = X_test.astype('float32')/255"
      ],
      "execution_count": 3,
      "outputs": []
    },
    {
      "cell_type": "code",
      "metadata": {
        "id": "QRojkmUuNFvm",
        "colab": {
          "base_uri": "https://localhost:8080/"
        },
        "outputId": "847952db-e018-4c8b-821a-fb1f740723f1"
      },
      "source": [
        "X_train.shape, X_test.shape"
      ],
      "execution_count": 4,
      "outputs": [
        {
          "output_type": "execute_result",
          "data": {
            "text/plain": [
              "((60000, 28, 28), (10000, 28, 28))"
            ]
          },
          "metadata": {},
          "execution_count": 4
        }
      ]
    },
    {
      "cell_type": "code",
      "metadata": {
        "id": "JkAT_B0VjGDR",
        "colab": {
          "base_uri": "https://localhost:8080/"
        },
        "outputId": "98ff4157-3881-45f1-97f3-1c8a44ddcbc7"
      },
      "source": [
        "X_train = X_train.reshape(len(X_train), np.prod(X_train.shape[1:]))\n",
        "X_test = X_test.reshape(len(X_test), np.prod(X_test.shape[1:]))\n",
        "print(X_train.shape)\n",
        "print(X_test.shape)"
      ],
      "execution_count": 5,
      "outputs": [
        {
          "output_type": "stream",
          "name": "stdout",
          "text": [
            "(60000, 784)\n",
            "(10000, 784)\n"
          ]
        }
      ]
    },
    {
      "cell_type": "code",
      "metadata": {
        "id": "0LR-lPTFjGiT"
      },
      "source": [
        "input_img= Input(shape=(784,))\n",
        "encoded = Dense(units=32, activation='relu')(input_img)\n",
        "decoded = Dense(units=784, activation='sigmoid')(encoded)"
      ],
      "execution_count": 6,
      "outputs": []
    },
    {
      "cell_type": "code",
      "metadata": {
        "id": "pvlq1MxvjIhV",
        "colab": {
          "base_uri": "https://localhost:8080/"
        },
        "outputId": "1d586cb8-2b97-4e70-bcd5-04bea8f3425c"
      },
      "source": [
        "autoencoder=Model(input_img, decoded)\n",
        "autoencoder.summary()"
      ],
      "execution_count": 7,
      "outputs": [
        {
          "output_type": "stream",
          "name": "stdout",
          "text": [
            "Model: \"model\"\n",
            "_________________________________________________________________\n",
            " Layer (type)                Output Shape              Param #   \n",
            "=================================================================\n",
            " input_1 (InputLayer)        [(None, 784)]             0         \n",
            "                                                                 \n",
            " dense (Dense)               (None, 32)                25120     \n",
            "                                                                 \n",
            " dense_1 (Dense)             (None, 784)               25872     \n",
            "                                                                 \n",
            "=================================================================\n",
            "Total params: 50,992\n",
            "Trainable params: 50,992\n",
            "Non-trainable params: 0\n",
            "_________________________________________________________________\n"
          ]
        }
      ]
    },
    {
      "cell_type": "code",
      "metadata": {
        "id": "mJlI_Dr8kG7u",
        "colab": {
          "base_uri": "https://localhost:8080/"
        },
        "outputId": "9c221cb9-7c35-4e96-8505-a33b8c95affe"
      },
      "source": [
        "encoder = Model(input_img, encoded)\n",
        "encoder.summary()\n"
      ],
      "execution_count": 8,
      "outputs": [
        {
          "output_type": "stream",
          "name": "stdout",
          "text": [
            "Model: \"model_1\"\n",
            "_________________________________________________________________\n",
            " Layer (type)                Output Shape              Param #   \n",
            "=================================================================\n",
            " input_1 (InputLayer)        [(None, 784)]             0         \n",
            "                                                                 \n",
            " dense (Dense)               (None, 32)                25120     \n",
            "                                                                 \n",
            "=================================================================\n",
            "Total params: 25,120\n",
            "Trainable params: 25,120\n",
            "Non-trainable params: 0\n",
            "_________________________________________________________________\n"
          ]
        }
      ]
    },
    {
      "cell_type": "code",
      "metadata": {
        "id": "LFfUqCczjKxa"
      },
      "source": [
        "autoencoder.compile(optimizer='adam', loss='binary_crossentropy', metrics=['accuracy'])"
      ],
      "execution_count": 9,
      "outputs": []
    },
    {
      "cell_type": "code",
      "metadata": {
        "id": "gd_KtBTujOeR",
        "colab": {
          "base_uri": "https://localhost:8080/"
        },
        "outputId": "6d77a3e2-61a3-4b11-f5eb-09a6e1ebdf4c"
      },
      "source": [
        "autoencoder.fit(X_train, X_train,\n",
        "                epochs=50,\n",
        "                batch_size=256,\n",
        "                shuffle=True,\n",
        "                validation_data=(X_test, X_test))"
      ],
      "execution_count": 10,
      "outputs": [
        {
          "output_type": "stream",
          "name": "stdout",
          "text": [
            "Epoch 1/50\n",
            "235/235 [==============================] - 6s 7ms/step - loss: 0.2791 - accuracy: 0.0124 - val_loss: 0.1936 - val_accuracy: 0.0137\n",
            "Epoch 2/50\n",
            "235/235 [==============================] - 1s 6ms/step - loss: 0.1729 - accuracy: 0.0133 - val_loss: 0.1546 - val_accuracy: 0.0105\n",
            "Epoch 3/50\n",
            "235/235 [==============================] - 1s 6ms/step - loss: 0.1452 - accuracy: 0.0109 - val_loss: 0.1350 - val_accuracy: 0.0096\n",
            "Epoch 4/50\n",
            "235/235 [==============================] - 1s 6ms/step - loss: 0.1298 - accuracy: 0.0106 - val_loss: 0.1226 - val_accuracy: 0.0115\n",
            "Epoch 5/50\n",
            "235/235 [==============================] - 1s 6ms/step - loss: 0.1193 - accuracy: 0.0101 - val_loss: 0.1138 - val_accuracy: 0.0111\n",
            "Epoch 6/50\n",
            "235/235 [==============================] - 1s 6ms/step - loss: 0.1119 - accuracy: 0.0107 - val_loss: 0.1077 - val_accuracy: 0.0115\n",
            "Epoch 7/50\n",
            "235/235 [==============================] - 1s 6ms/step - loss: 0.1066 - accuracy: 0.0106 - val_loss: 0.1031 - val_accuracy: 0.0116\n",
            "Epoch 8/50\n",
            "235/235 [==============================] - 1s 6ms/step - loss: 0.1027 - accuracy: 0.0110 - val_loss: 0.0999 - val_accuracy: 0.0120\n",
            "Epoch 9/50\n",
            "235/235 [==============================] - 1s 6ms/step - loss: 0.0999 - accuracy: 0.0112 - val_loss: 0.0974 - val_accuracy: 0.0122\n",
            "Epoch 10/50\n",
            "235/235 [==============================] - 2s 7ms/step - loss: 0.0978 - accuracy: 0.0111 - val_loss: 0.0956 - val_accuracy: 0.0115\n",
            "Epoch 11/50\n",
            "235/235 [==============================] - 1s 6ms/step - loss: 0.0964 - accuracy: 0.0114 - val_loss: 0.0945 - val_accuracy: 0.0115\n",
            "Epoch 12/50\n",
            "235/235 [==============================] - 1s 6ms/step - loss: 0.0955 - accuracy: 0.0107 - val_loss: 0.0939 - val_accuracy: 0.0111\n",
            "Epoch 13/50\n",
            "235/235 [==============================] - 1s 6ms/step - loss: 0.0948 - accuracy: 0.0110 - val_loss: 0.0932 - val_accuracy: 0.0127\n",
            "Epoch 14/50\n",
            "235/235 [==============================] - 2s 7ms/step - loss: 0.0944 - accuracy: 0.0110 - val_loss: 0.0929 - val_accuracy: 0.0107\n",
            "Epoch 15/50\n",
            "235/235 [==============================] - 1s 6ms/step - loss: 0.0941 - accuracy: 0.0115 - val_loss: 0.0926 - val_accuracy: 0.0120\n",
            "Epoch 16/50\n",
            "235/235 [==============================] - 1s 6ms/step - loss: 0.0938 - accuracy: 0.0114 - val_loss: 0.0924 - val_accuracy: 0.0115\n",
            "Epoch 17/50\n",
            "235/235 [==============================] - 1s 6ms/step - loss: 0.0937 - accuracy: 0.0116 - val_loss: 0.0923 - val_accuracy: 0.0128\n",
            "Epoch 18/50\n",
            "235/235 [==============================] - 1s 6ms/step - loss: 0.0935 - accuracy: 0.0116 - val_loss: 0.0922 - val_accuracy: 0.0132\n",
            "Epoch 19/50\n",
            "235/235 [==============================] - 1s 6ms/step - loss: 0.0934 - accuracy: 0.0120 - val_loss: 0.0920 - val_accuracy: 0.0124\n",
            "Epoch 20/50\n",
            "235/235 [==============================] - 1s 6ms/step - loss: 0.0933 - accuracy: 0.0117 - val_loss: 0.0920 - val_accuracy: 0.0125\n",
            "Epoch 21/50\n",
            "235/235 [==============================] - 1s 6ms/step - loss: 0.0932 - accuracy: 0.0114 - val_loss: 0.0919 - val_accuracy: 0.0138\n",
            "Epoch 22/50\n",
            "235/235 [==============================] - 1s 6ms/step - loss: 0.0932 - accuracy: 0.0115 - val_loss: 0.0919 - val_accuracy: 0.0120\n",
            "Epoch 23/50\n",
            "235/235 [==============================] - 1s 6ms/step - loss: 0.0931 - accuracy: 0.0118 - val_loss: 0.0918 - val_accuracy: 0.0126\n",
            "Epoch 24/50\n",
            "235/235 [==============================] - 1s 6ms/step - loss: 0.0931 - accuracy: 0.0115 - val_loss: 0.0918 - val_accuracy: 0.0126\n",
            "Epoch 25/50\n",
            "235/235 [==============================] - 1s 6ms/step - loss: 0.0930 - accuracy: 0.0117 - val_loss: 0.0918 - val_accuracy: 0.0126\n",
            "Epoch 26/50\n",
            "235/235 [==============================] - 1s 6ms/step - loss: 0.0930 - accuracy: 0.0114 - val_loss: 0.0917 - val_accuracy: 0.0131\n",
            "Epoch 27/50\n",
            "235/235 [==============================] - 1s 6ms/step - loss: 0.0929 - accuracy: 0.0115 - val_loss: 0.0918 - val_accuracy: 0.0126\n",
            "Epoch 28/50\n",
            "235/235 [==============================] - 1s 6ms/step - loss: 0.0929 - accuracy: 0.0120 - val_loss: 0.0917 - val_accuracy: 0.0138\n",
            "Epoch 29/50\n",
            "235/235 [==============================] - 1s 6ms/step - loss: 0.0929 - accuracy: 0.0115 - val_loss: 0.0917 - val_accuracy: 0.0129\n",
            "Epoch 30/50\n",
            "235/235 [==============================] - 1s 6ms/step - loss: 0.0929 - accuracy: 0.0120 - val_loss: 0.0917 - val_accuracy: 0.0123\n",
            "Epoch 31/50\n",
            "235/235 [==============================] - 1s 6ms/step - loss: 0.0928 - accuracy: 0.0115 - val_loss: 0.0916 - val_accuracy: 0.0131\n",
            "Epoch 32/50\n",
            "235/235 [==============================] - 1s 6ms/step - loss: 0.0928 - accuracy: 0.0121 - val_loss: 0.0917 - val_accuracy: 0.0120\n",
            "Epoch 33/50\n",
            "235/235 [==============================] - 1s 6ms/step - loss: 0.0928 - accuracy: 0.0116 - val_loss: 0.0916 - val_accuracy: 0.0127\n",
            "Epoch 34/50\n",
            "235/235 [==============================] - 1s 6ms/step - loss: 0.0928 - accuracy: 0.0120 - val_loss: 0.0915 - val_accuracy: 0.0127\n",
            "Epoch 35/50\n",
            "235/235 [==============================] - 1s 6ms/step - loss: 0.0928 - accuracy: 0.0120 - val_loss: 0.0915 - val_accuracy: 0.0133\n",
            "Epoch 36/50\n",
            "235/235 [==============================] - 1s 6ms/step - loss: 0.0927 - accuracy: 0.0114 - val_loss: 0.0915 - val_accuracy: 0.0132\n",
            "Epoch 37/50\n",
            "235/235 [==============================] - 1s 6ms/step - loss: 0.0927 - accuracy: 0.0119 - val_loss: 0.0916 - val_accuracy: 0.0130\n",
            "Epoch 38/50\n",
            "235/235 [==============================] - 2s 7ms/step - loss: 0.0927 - accuracy: 0.0119 - val_loss: 0.0915 - val_accuracy: 0.0133\n",
            "Epoch 39/50\n",
            "235/235 [==============================] - 2s 6ms/step - loss: 0.0927 - accuracy: 0.0123 - val_loss: 0.0915 - val_accuracy: 0.0122\n",
            "Epoch 40/50\n",
            "235/235 [==============================] - 1s 6ms/step - loss: 0.0927 - accuracy: 0.0119 - val_loss: 0.0915 - val_accuracy: 0.0122\n",
            "Epoch 41/50\n",
            "235/235 [==============================] - 1s 6ms/step - loss: 0.0927 - accuracy: 0.0121 - val_loss: 0.0916 - val_accuracy: 0.0125\n",
            "Epoch 42/50\n",
            "235/235 [==============================] - 1s 6ms/step - loss: 0.0926 - accuracy: 0.0122 - val_loss: 0.0915 - val_accuracy: 0.0135\n",
            "Epoch 43/50\n",
            "235/235 [==============================] - 1s 6ms/step - loss: 0.0926 - accuracy: 0.0122 - val_loss: 0.0915 - val_accuracy: 0.0135\n",
            "Epoch 44/50\n",
            "235/235 [==============================] - 1s 6ms/step - loss: 0.0926 - accuracy: 0.0120 - val_loss: 0.0915 - val_accuracy: 0.0124\n",
            "Epoch 45/50\n",
            "235/235 [==============================] - 1s 6ms/step - loss: 0.0926 - accuracy: 0.0122 - val_loss: 0.0915 - val_accuracy: 0.0133\n",
            "Epoch 46/50\n",
            "235/235 [==============================] - 1s 6ms/step - loss: 0.0926 - accuracy: 0.0120 - val_loss: 0.0915 - val_accuracy: 0.0115\n",
            "Epoch 47/50\n",
            "235/235 [==============================] - 1s 6ms/step - loss: 0.0926 - accuracy: 0.0118 - val_loss: 0.0915 - val_accuracy: 0.0130\n",
            "Epoch 48/50\n",
            "235/235 [==============================] - 1s 6ms/step - loss: 0.0926 - accuracy: 0.0121 - val_loss: 0.0915 - val_accuracy: 0.0128\n",
            "Epoch 49/50\n",
            "235/235 [==============================] - 1s 6ms/step - loss: 0.0926 - accuracy: 0.0120 - val_loss: 0.0915 - val_accuracy: 0.0139\n",
            "Epoch 50/50\n",
            "235/235 [==============================] - 1s 6ms/step - loss: 0.0926 - accuracy: 0.0124 - val_loss: 0.0915 - val_accuracy: 0.0121\n"
          ]
        },
        {
          "output_type": "execute_result",
          "data": {
            "text/plain": [
              "<keras.callbacks.History at 0x7f07b01e3f50>"
            ]
          },
          "metadata": {},
          "execution_count": 10
        }
      ]
    },
    {
      "cell_type": "code",
      "metadata": {
        "id": "AXGRXCGpjRyZ"
      },
      "source": [
        "encoded_imgs = encoder.predict(X_test)\n",
        "predicted = autoencoder.predict(X_test)"
      ],
      "execution_count": 11,
      "outputs": []
    },
    {
      "cell_type": "code",
      "metadata": {
        "id": "WtMOZNFD7_BX",
        "colab": {
          "base_uri": "https://localhost:8080/"
        },
        "outputId": "3477d3ae-df9a-48ad-b588-f9825dc1c0e3"
      },
      "source": [
        "encoded_imgs.shape"
      ],
      "execution_count": 12,
      "outputs": [
        {
          "output_type": "execute_result",
          "data": {
            "text/plain": [
              "(10000, 32)"
            ]
          },
          "metadata": {},
          "execution_count": 12
        }
      ]
    },
    {
      "cell_type": "code",
      "metadata": {
        "id": "JIQDLRZ97_qU",
        "colab": {
          "base_uri": "https://localhost:8080/"
        },
        "outputId": "64aef0f4-3ff2-4e15-c986-64963977e5a7"
      },
      "source": [
        "predicted.shape"
      ],
      "execution_count": 13,
      "outputs": [
        {
          "output_type": "execute_result",
          "data": {
            "text/plain": [
              "(10000, 784)"
            ]
          },
          "metadata": {},
          "execution_count": 13
        }
      ]
    },
    {
      "cell_type": "code",
      "metadata": {
        "id": "OHi_IzdtjT7_",
        "colab": {
          "base_uri": "https://localhost:8080/",
          "height": 252
        },
        "outputId": "6c284777-d951-4559-b152-1f58a0ab6982"
      },
      "source": [
        "plt.figure(figsize=(40, 4))\n",
        "for i in range(10):\n",
        "    # display original\n",
        "    ax = plt.subplot(3, 20, i + 1)\n",
        "    plt.imshow(X_test[i].reshape(28, 28))\n",
        "    plt.gray()\n",
        "    ax.get_xaxis().set_visible(False)\n",
        "    ax.get_yaxis().set_visible(False)\n",
        "    \n",
        "    # display encoded image\n",
        "    ax = plt.subplot(3, 20, i + 1 + 20)\n",
        "    plt.imshow(encoded_imgs[i].reshape(8,4))\n",
        "    plt.gray()\n",
        "    ax.get_xaxis().set_visible(False)\n",
        "    ax.get_yaxis().set_visible(False)\n",
        "    # display reconstruction\n",
        "    ax = plt.subplot(3, 20, 2*20 +i+ 1)\n",
        "    plt.imshow(predicted[i].reshape(28, 28))\n",
        "    plt.gray()\n",
        "    ax.get_xaxis().set_visible(False)\n",
        "    ax.get_yaxis().set_visible(False)\n",
        "    \n",
        "    \n",
        "    \n",
        "plt.show()"
      ],
      "execution_count": 14,
      "outputs": [
        {
          "output_type": "display_data",
          "data": {
            "text/plain": [
              "<Figure size 2880x288 with 30 Axes>"
            ],
            "image/png": "[encoded data removed]"
          },
          "metadata": {
            "needs_background": "light"
          }
        }
      ]
    }
  ]
}