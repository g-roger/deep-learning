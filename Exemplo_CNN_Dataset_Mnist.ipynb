{
  "nbformat": 4,
  "nbformat_minor": 0,
  "metadata": {
    "accelerator": "GPU",
    "colab": {
      "name": "Exemplo CNN Dataset Mnist.ipynb",
      "provenance": [],
      "include_colab_link": true
    },
    "kernelspec": {
      "display_name": "Python 3",
      "language": "python",
      "name": "python3"
    },
    "language_info": {
      "codemirror_mode": {
        "name": "ipython",
        "version": 3
      },
      "file_extension": ".py",
      "mimetype": "text/x-python",
      "name": "python",
      "nbconvert_exporter": "python",
      "pygments_lexer": "ipython3",
      "version": "3.7.7"
    }
  },
  "cells": [
    {
      "cell_type": "markdown",
      "metadata": {
        "id": "view-in-github",
        "colab_type": "text"
      },
      "source": [
        "<a href=\"https://colab.research.google.com/github/g-roger/deep-learning/blob/master/Exemplo_CNN_Dataset_Mnist.ipynb\" target=\"_parent\"><img src=\"https://colab.research.google.com/assets/colab-badge.svg\" alt=\"Open In Colab\"/></a>"
      ]
    },
    {
      "cell_type": "code",
      "metadata": {
        "id": "wKphugNdAzIJ"
      },
      "source": [
        "from keras.datasets import mnist\n",
        "import matplotlib.pyplot as plt\n",
        "from keras.models import Sequential, load_model\n",
        "from keras.layers import Dense\n",
        "from keras.layers import Dropout\n",
        "from keras.layers import Flatten\n",
        "from keras.layers.convolutional import Conv2D\n",
        "from keras.layers.convolutional import MaxPooling2D\n",
        "from keras.utils import np_utils\n",
        "from keras import backend as K\n",
        "from keras.preprocessing.image import img_to_array, load_img\n",
        "import numpy as np"
      ],
      "execution_count": null,
      "outputs": []
    },
    {
      "cell_type": "markdown",
      "metadata": {
        "id": "eaj3gyn4AzIO"
      },
      "source": [
        " Carrega os dados do dataset MNIST"
      ]
    },
    {
      "cell_type": "code",
      "metadata": {
        "id": "mGJcC88tAzIP",
        "colab": {
          "base_uri": "https://localhost:8080/"
        },
        "outputId": "2823f157-c7f3-4f7f-aad0-e969425d7c81"
      },
      "source": [
        "  (X_train, y_train), (X_test, y_test) = mnist.load_data()"
      ],
      "execution_count": null,
      "outputs": [
        {
          "output_type": "stream",
          "name": "stdout",
          "text": [
            "Downloading data from https://storage.googleapis.com/tensorflow/tf-keras-datasets/mnist.npz\n",
            "11493376/11490434 [==============================] - 0s 0us/step\n",
            "11501568/11490434 [==============================] - 0s 0us/step\n"
          ]
        }
      ]
    },
    {
      "cell_type": "markdown",
      "metadata": {
        "id": "wchq4BLlAzIS"
      },
      "source": [
        "Plota 4 imagens de exemplo em escala de cinza"
      ]
    },
    {
      "cell_type": "code",
      "metadata": {
        "id": "sDdT4RRmAzIT",
        "colab": {
          "base_uri": "https://localhost:8080/",
          "height": 268
        },
        "outputId": "2e516c9e-d1ed-4ac1-ddd2-0d6ba9a61882"
      },
      "source": [
        "plt.figure(0)\n",
        "plt.subplot(221)\n",
        "plt.imshow(X_train[0], cmap=plt.get_cmap('gray'))\n",
        "plt.subplot(222)\n",
        "plt.imshow(X_train[1], cmap=plt.get_cmap('gray'))\n",
        "plt.subplot(223)\n",
        "plt.imshow(X_train[2], cmap=plt.get_cmap('gray'))\n",
        "plt.subplot(224)\n",
        "plt.imshow(X_train[3], cmap=plt.get_cmap('gray'))\n",
        "#Mostra o as imagens\n",
        "plt.show()"
      ],
      "execution_count": null,
      "outputs": [
        {
          "output_type": "display_data",
          "data": {
            "image/png": "[encoded data removed]",
            "text/plain": [
              "<Figure size 432x288 with 4 Axes>"
            ]
          },
          "metadata": {
            "needs_background": "light"
          }
        }
      ]
    },
    {
      "cell_type": "code",
      "metadata": {
        "colab": {
          "base_uri": "https://localhost:8080/"
        },
        "id": "_huEjKB2sucn",
        "outputId": "1c4161e5-e363-4e15-91ba-2b21929f7813"
      },
      "source": [
        "X_train.shape"
      ],
      "execution_count": null,
      "outputs": [
        {
          "output_type": "execute_result",
          "data": {
            "text/plain": [
              "(60000, 28, 28)"
            ]
          },
          "metadata": {},
          "execution_count": 4
        }
      ]
    },
    {
      "cell_type": "code",
      "metadata": {
        "id": "Wmg2j51YtCFM",
        "colab": {
          "base_uri": "https://localhost:8080/"
        },
        "outputId": "b611c73f-a7e3-493f-e5ab-f3c232c78fd2"
      },
      "source": [
        "X_test.shape"
      ],
      "execution_count": null,
      "outputs": [
        {
          "output_type": "execute_result",
          "data": {
            "text/plain": [
              "(10000, 28, 28)"
            ]
          },
          "metadata": {},
          "execution_count": 5
        }
      ]
    },
    {
      "cell_type": "code",
      "metadata": {
        "id": "nVeYZtOOZ5uU",
        "colab": {
          "base_uri": "https://localhost:8080/"
        },
        "outputId": "9ac541c9-cc02-4ce7-f401-4716a4e61833"
      },
      "source": [
        "print(y_train[0])\n",
        "print(y_train[1])\n",
        "print(y_train[2])\n",
        "print(y_train[3])"
      ],
      "execution_count": null,
      "outputs": [
        {
          "output_type": "stream",
          "name": "stdout",
          "text": [
            "5\n",
            "0\n",
            "4\n",
            "1\n"
          ]
        }
      ]
    },
    {
      "cell_type": "markdown",
      "metadata": {
        "id": "0NyH1OVIAzIX"
      },
      "source": [
        "Apenas ajusta a matriz para as dimensões esperadas do TensorFlow"
      ]
    },
    {
      "cell_type": "code",
      "metadata": {
        "id": "CmLUvIRHvNrR",
        "colab": {
          "base_uri": "https://localhost:8080/"
        },
        "outputId": "c5c55059-f7bd-4eda-ccea-dc5645246cbf"
      },
      "source": [
        "y_train"
      ],
      "execution_count": null,
      "outputs": [
        {
          "output_type": "execute_result",
          "data": {
            "text/plain": [
              "array([5, 0, 4, ..., 5, 6, 8], dtype=uint8)"
            ]
          },
          "metadata": {},
          "execution_count": 7
        }
      ]
    },
    {
      "cell_type": "code",
      "metadata": {
        "id": "74-AABCMAzIY",
        "colab": {
          "base_uri": "https://localhost:8080/"
        },
        "outputId": "5eddfc8a-c834-49da-d896-ef5da4d06d82"
      },
      "source": [
        "img_rows, img_cols = 28, 28\n",
        "\n",
        "X_train = X_train.reshape(X_train.shape[0], img_rows, img_cols, 1)\n",
        "X_test = X_test.reshape(X_test.shape[0], img_rows, img_cols, 1)\n",
        "input_shape = (img_rows, img_cols, 1)\n",
        "print(input_shape)\n",
        "# Normaliza as entradas de 0-255 para 0-1\n",
        "X_train = X_train / 255\n",
        "X_test = X_test / 255\n"
      ],
      "execution_count": null,
      "outputs": [
        {
          "output_type": "stream",
          "name": "stdout",
          "text": [
            "(28, 28, 1)\n"
          ]
        }
      ]
    },
    {
      "cell_type": "code",
      "metadata": {
        "id": "SkH-FcReMM8l"
      },
      "source": [
        "# Gera os vetores com as classes do conjunto de dados de treinamento e teste\n",
        "y_train = np_utils.to_categorical(y_train)\n",
        "y_test = np_utils.to_categorical(y_test)\n",
        "num_classes = y_test.shape[1]"
      ],
      "execution_count": null,
      "outputs": []
    },
    {
      "cell_type": "code",
      "metadata": {
        "colab": {
          "base_uri": "https://localhost:8080/"
        },
        "id": "eMfTIZUYetRN",
        "outputId": "29756167-bfe5-4965-d396-9dbe320179db"
      },
      "source": [
        "print(X_train.shape)\n",
        "print(y_train.shape)\n",
        "print(X_test.shape)\n",
        "print(y_test.shape)"
      ],
      "execution_count": null,
      "outputs": [
        {
          "output_type": "stream",
          "name": "stdout",
          "text": [
            "(60000, 28, 28, 1)\n",
            "(60000, 10)\n",
            "(10000, 28, 28, 1)\n",
            "(10000, 10)\n"
          ]
        }
      ]
    },
    {
      "cell_type": "code",
      "metadata": {
        "id": "A-bo1kGQvZwO",
        "colab": {
          "base_uri": "https://localhost:8080/"
        },
        "outputId": "5d94ca3d-127d-474f-aedf-7ed1ffeb94c9"
      },
      "source": [
        "y_train"
      ],
      "execution_count": null,
      "outputs": [
        {
          "output_type": "execute_result",
          "data": {
            "text/plain": [
              "array([[0., 0., 0., ..., 0., 0., 0.],\n",
              "       [1., 0., 0., ..., 0., 0., 0.],\n",
              "       [0., 0., 0., ..., 0., 0., 0.],\n",
              "       ...,\n",
              "       [0., 0., 0., ..., 0., 0., 0.],\n",
              "       [0., 0., 0., ..., 0., 0., 0.],\n",
              "       [0., 0., 0., ..., 0., 1., 0.]], dtype=float32)"
            ]
          },
          "metadata": {},
          "execution_count": 11
        }
      ]
    },
    {
      "cell_type": "markdown",
      "metadata": {
        "id": "hbh3hTgiAzIc"
      },
      "source": [
        "Cria o modelo da rede neural Convolucional"
      ]
    },
    {
      "cell_type": "code",
      "metadata": {
        "id": "Ugv-XjmYAzIc",
        "colab": {
          "base_uri": "https://localhost:8080/"
        },
        "outputId": "02da4d37-c62c-4b16-d4a8-22758b433d7a"
      },
      "source": [
        "# Cria o modelo\n",
        "model = Sequential()\n",
        "#Convolução 2D com função de ativação Rectified Linear Units 32 kernels/Pesos (filtros) \n",
        "model.add(Conv2D(32, (5, 5), input_shape=(28, 28, 1), activation='relu'))#\n",
        "print( model.output_shape)\n",
        "#Camada de Pooling \t    \n",
        "model.add(MaxPooling2D(pool_size=(2, 2)))\n",
        "print( model.output_shape)\n",
        "#Convolução 2D com função de ativação Rectified Linear Units 64 kernels/Pesos (filtros) \n",
        "model.add(Conv2D(64, (5, 5), activation='relu'))\n",
        "print( model.output_shape)\n",
        "#Camada de Pooling \t\n",
        "model.add(MaxPooling2D(pool_size=(2, 2)))\n",
        "print( model.output_shape)\n",
        "#Remove 20% das ativações de entrada aleatoriamente \n",
        "model.add(Dropout(0.2))\n",
        "#Converte o conjunto de imagens e um vetor unidimensional para a entrada da rede neural totalmente conectada\n",
        "model.add(Flatten())\n",
        "print( model.output_shape)\n",
        "\n",
        "model.add(Dense(32, activation='relu'))\n",
        "print( model.output_shape)\n",
        "model.add(Dense(16, activation='relu'))\n",
        "print( model.output_shape)\n",
        "#Função de Ativação Softmax\n",
        "model.add(Dense(num_classes, activation='softmax'))\n",
        "print( model.output_shape)"
      ],
      "execution_count": null,
      "outputs": [
        {
          "output_type": "stream",
          "name": "stdout",
          "text": [
            "(None, 24, 24, 32)\n",
            "(None, 12, 12, 32)\n",
            "(None, 8, 8, 64)\n",
            "(None, 4, 4, 64)\n",
            "(None, 1024)\n",
            "(None, 32)\n",
            "(None, 16)\n",
            "(None, 10)\n"
          ]
        }
      ]
    },
    {
      "cell_type": "markdown",
      "metadata": {
        "id": "1sw2JYjfAzIg"
      },
      "source": [
        "Compilando o modelo escolhendo como se dará nossa perda, otimização e métricas (parâmetros do Keras)\n",
        "mais informações em https://keras.io/losses/\n",
        "mais informações em https://keras.io/optimizers/\n",
        "mais informações em https://keras.io/metrics/"
      ]
    },
    {
      "cell_type": "markdown",
      "metadata": {
        "id": "6b4GXdQuXjkH"
      },
      "source": [
        "![Função Softma](https://telescopeinstorage.blob.core.windows.net/datasets/funcaosoftmax.png)"
      ]
    },
    {
      "cell_type": "code",
      "metadata": {
        "id": "nhA_ZpHiAzIg"
      },
      "source": [
        "model.compile(loss='categorical_crossentropy', optimizer='adam', metrics=['accuracy'])"
      ],
      "execution_count": null,
      "outputs": []
    },
    {
      "cell_type": "markdown",
      "metadata": {
        "id": "lJpe5jICAzIj"
      },
      "source": [
        "Treinamento do modelo com **conjunto de validação**"
      ]
    },
    {
      "cell_type": "markdown",
      "metadata": {
        "id": "l6h3WFOsWESz"
      },
      "source": [
        "![Conjunto de Treinamento, Validação e Teste](https://telescopeinstorage.blob.core.windows.net/datasets/validation-set-768x242.jpeg)"
      ]
    },
    {
      "cell_type": "code",
      "metadata": {
        "id": "H3w5FtDrAzIk",
        "colab": {
          "base_uri": "https://localhost:8080/"
        },
        "outputId": "e7735217-8714-41de-c283-f7c84f1f6fff"
      },
      "source": [
        "history = model.fit(X_train, y_train, validation_split = 0.2, epochs=20, batch_size=500)"
      ],
      "execution_count": null,
      "outputs": [
        {
          "output_type": "stream",
          "name": "stdout",
          "text": [
            "Epoch 1/20\n",
            "96/96 [==============================] - 32s 22ms/step - loss: 0.8186 - accuracy: 0.7290 - val_loss: 0.1700 - val_accuracy: 0.9524\n",
            "Epoch 2/20\n",
            "96/96 [==============================] - 2s 19ms/step - loss: 0.1482 - accuracy: 0.9580 - val_loss: 0.0912 - val_accuracy: 0.9747\n",
            "Epoch 3/20\n",
            "96/96 [==============================] - 2s 19ms/step - loss: 0.0974 - accuracy: 0.9710 - val_loss: 0.0666 - val_accuracy: 0.9798\n",
            "Epoch 4/20\n",
            "96/96 [==============================] - 2s 19ms/step - loss: 0.0729 - accuracy: 0.9779 - val_loss: 0.0648 - val_accuracy: 0.9817\n",
            "Epoch 5/20\n",
            "96/96 [==============================] - 2s 19ms/step - loss: 0.0617 - accuracy: 0.9816 - val_loss: 0.0542 - val_accuracy: 0.9837\n",
            "Epoch 6/20\n",
            "96/96 [==============================] - 2s 19ms/step - loss: 0.0525 - accuracy: 0.9842 - val_loss: 0.0481 - val_accuracy: 0.9868\n",
            "Epoch 7/20\n",
            "96/96 [==============================] - 2s 19ms/step - loss: 0.0456 - accuracy: 0.9856 - val_loss: 0.0480 - val_accuracy: 0.9861\n",
            "Epoch 8/20\n",
            "96/96 [==============================] - 2s 19ms/step - loss: 0.0402 - accuracy: 0.9875 - val_loss: 0.0432 - val_accuracy: 0.9875\n",
            "Epoch 9/20\n",
            "96/96 [==============================] - 2s 19ms/step - loss: 0.0365 - accuracy: 0.9891 - val_loss: 0.0418 - val_accuracy: 0.9887\n",
            "Epoch 10/20\n",
            "96/96 [==============================] - 2s 19ms/step - loss: 0.0337 - accuracy: 0.9896 - val_loss: 0.0394 - val_accuracy: 0.9884\n",
            "Epoch 11/20\n",
            "96/96 [==============================] - 2s 19ms/step - loss: 0.0306 - accuracy: 0.9906 - val_loss: 0.0373 - val_accuracy: 0.9902\n",
            "Epoch 12/20\n",
            "96/96 [==============================] - 2s 19ms/step - loss: 0.0270 - accuracy: 0.9914 - val_loss: 0.0368 - val_accuracy: 0.9901\n",
            "Epoch 13/20\n",
            "96/96 [==============================] - 2s 19ms/step - loss: 0.0253 - accuracy: 0.9921 - val_loss: 0.0351 - val_accuracy: 0.9901\n",
            "Epoch 14/20\n",
            "96/96 [==============================] - 2s 19ms/step - loss: 0.0242 - accuracy: 0.9922 - val_loss: 0.0334 - val_accuracy: 0.9906\n",
            "Epoch 15/20\n",
            "96/96 [==============================] - 2s 19ms/step - loss: 0.0213 - accuracy: 0.9930 - val_loss: 0.0351 - val_accuracy: 0.9902\n",
            "Epoch 16/20\n",
            "96/96 [==============================] - 2s 19ms/step - loss: 0.0199 - accuracy: 0.9932 - val_loss: 0.0380 - val_accuracy: 0.9888\n",
            "Epoch 17/20\n",
            "96/96 [==============================] - 2s 19ms/step - loss: 0.0174 - accuracy: 0.9943 - val_loss: 0.0337 - val_accuracy: 0.9909\n",
            "Epoch 18/20\n",
            "96/96 [==============================] - 2s 19ms/step - loss: 0.0169 - accuracy: 0.9945 - val_loss: 0.0355 - val_accuracy: 0.9908\n",
            "Epoch 19/20\n",
            "96/96 [==============================] - 2s 19ms/step - loss: 0.0162 - accuracy: 0.9949 - val_loss: 0.0330 - val_accuracy: 0.9908\n",
            "Epoch 20/20\n",
            "96/96 [==============================] - 2s 19ms/step - loss: 0.0154 - accuracy: 0.9947 - val_loss: 0.0349 - val_accuracy: 0.9904\n"
          ]
        }
      ]
    },
    {
      "cell_type": "markdown",
      "metadata": {
        "id": "WkuYRzHEAzIn"
      },
      "source": [
        "Plotagem da acurácia de Treinamento e Validação"
      ]
    },
    {
      "cell_type": "code",
      "metadata": {
        "id": "FeHD_SXwAzIo",
        "colab": {
          "base_uri": "https://localhost:8080/",
          "height": 295
        },
        "outputId": "08c49160-7c69-4244-f160-c9a64c1cf917"
      },
      "source": [
        "plt.figure(1)\n",
        "plt.plot(history.history['accuracy'])\n",
        "plt.plot(history.history['val_accuracy'])\n",
        "plt.title('model accuracy')\n",
        "plt.ylabel('accuracy')\n",
        "plt.xlabel('epoch')\n",
        "plt.legend(['train', 'validation'], loc='upper left')\n",
        "plt.show()"
      ],
      "execution_count": null,
      "outputs": [
        {
          "output_type": "display_data",
          "data": {
            "image/png": "[encoded data removed]",
            "text/plain": [
              "<Figure size 432x288 with 1 Axes>"
            ]
          },
          "metadata": {
            "needs_background": "light"
          }
        }
      ]
    },
    {
      "cell_type": "markdown",
      "metadata": {
        "id": "lxX0T5xdAzIq"
      },
      "source": [
        "Avaliação final do modelo no conjunto de testes"
      ]
    },
    {
      "cell_type": "code",
      "metadata": {
        "id": "thvnp8WAAzIr",
        "colab": {
          "base_uri": "https://localhost:8080/"
        },
        "outputId": "0c7fd1d5-8229-4ec5-ef70-0981bcd7d99f"
      },
      "source": [
        "scores = model.evaluate(X_test, y_test, verbose=0)\n",
        "print(\"Erro da CNN: %.2f%%\" % (100-scores[1]*100))\n",
        "print(\"Acurária da CNN: %.2f%%\" % (scores[1]*100))"
      ],
      "execution_count": null,
      "outputs": [
        {
          "output_type": "stream",
          "name": "stdout",
          "text": [
            "Erro da CNN: 0.88%\n",
            "Acurária da CNN: 99.12%\n"
          ]
        }
      ]
    },
    {
      "cell_type": "code",
      "metadata": {
        "id": "yp83-Zutzwzp",
        "colab": {
          "base_uri": "https://localhost:8080/"
        },
        "outputId": "5b403d91-a536-4379-af11-7c1ea92a9c46"
      },
      "source": [
        "scores"
      ],
      "execution_count": null,
      "outputs": [
        {
          "output_type": "execute_result",
          "data": {
            "text/plain": [
              "[0.029131842777132988, 0.9911999702453613]"
            ]
          },
          "metadata": {},
          "execution_count": 17
        }
      ]
    },
    {
      "cell_type": "markdown",
      "metadata": {
        "id": "WOCKIShRAzIt"
      },
      "source": [
        "Salva o modelo"
      ]
    },
    {
      "cell_type": "code",
      "metadata": {
        "id": "J9FNrfNGAzIu"
      },
      "source": [
        "model.save('MNIST.hdf5')"
      ],
      "execution_count": null,
      "outputs": []
    },
    {
      "cell_type": "code",
      "metadata": {
        "id": "v5bYTlBRAzIx"
      },
      "source": [
        "model_loaded  = load_model('MNIST.hdf5')"
      ],
      "execution_count": null,
      "outputs": []
    }
  ]
}