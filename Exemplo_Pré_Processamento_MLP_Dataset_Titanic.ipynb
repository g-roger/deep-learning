{
  "nbformat": 4,
  "nbformat_minor": 0,
  "metadata": {
    "kernelspec": {
      "display_name": "Python 3",
      "language": "python",
      "name": "python3"
    },
    "language_info": {
      "codemirror_mode": {
        "name": "ipython",
        "version": 3
      },
      "file_extension": ".py",
      "mimetype": "text/x-python",
      "name": "python",
      "nbconvert_exporter": "python",
      "pygments_lexer": "ipython3",
      "version": "3.7.7"
    },
    "colab": {
      "name": "Exemplo Pré-Processamento MLP Dataset Titanic.ipynb",
      "provenance": [],
      "collapsed_sections": [
        "39CqzS5HWP_t"
      ],
      "include_colab_link": true
    },
    "accelerator": "GPU"
  },
  "cells": [
    {
      "cell_type": "markdown",
      "metadata": {
        "id": "view-in-github",
        "colab_type": "text"
      },
      "source": [
        "<a href=\"https://colab.research.google.com/github/g-roger/deep-learning/blob/master/Exemplo_Pr%C3%A9_Processamento_MLP_Dataset_Titanic.ipynb\" target=\"_parent\"><img src=\"https://colab.research.google.com/assets/colab-badge.svg\" alt=\"Open In Colab\"/></a>"
      ]
    },
    {
      "cell_type": "code",
      "metadata": {
        "id": "sR3YY2_lWP-d"
      },
      "source": [
        "import pandas as pd\n",
        "import seaborn as sb\n",
        "import matplotlib.pyplot as plt\n",
        "\n",
        "from sklearn.model_selection import train_test_split\n",
        "from sklearn import metrics \n",
        "from sklearn.preprocessing import StandardScaler, MinMaxScaler\n",
        "\n",
        "\n",
        "from keras.models import Sequential\n",
        "from keras.layers import Dense\n",
        "#necessita do pydot pip install pydot\n",
        "from keras.utils.vis_utils import plot_model\n",
        "import pydot"
      ],
      "execution_count": null,
      "outputs": []
    },
    {
      "cell_type": "markdown",
      "metadata": {
        "id": "-YXXUHQ7WP-s"
      },
      "source": [
        "A primeira coisa que vamos fazer é ler o conjunto de dados usando a função read_csv() dos Pandas. \n",
        "Colocaremos esses dados em um DataFrame do Pandas, chamado \"titanic\", e nomearemos cada uma das colunas."
      ]
    },
    {
      "cell_type": "code",
      "metadata": {
        "id": "opDXxjLkWP-t",
        "colab": {
          "base_uri": "https://localhost:8080/",
          "height": 716
        },
        "outputId": "cdd093d6-f9de-43f9-bf42-894048aea441"
      },
      "source": [
        "url = 'https://raw.githubusercontent.com/BigDataGal/Python-for-Data-Science/master/titanic-train.csv'\n",
        "titanic = pd.read_csv(url)\n",
        "titanic.columns = ['PassengerId','Survived','Pclass','Name','Sex','Age','SibSp','Parch','Ticket','Fare','Cabin','Embarked']\n",
        "titanic.head(10)"
      ],
      "execution_count": null,
      "outputs": [
        {
          "output_type": "execute_result",
          "data": {
            "text/html": [
              "<div>\n",
              "<style scoped>\n",
              "    .dataframe tbody tr th:only-of-type {\n",
              "        vertical-align: middle;\n",
              "    }\n",
              "\n",
              "    .dataframe tbody tr th {\n",
              "        vertical-align: top;\n",
              "    }\n",
              "\n",
              "    .dataframe thead th {\n",
              "        text-align: right;\n",
              "    }\n",
              "</style>\n",
              "<table border=\"1\" class=\"dataframe\">\n",
              "  <thead>\n",
              "    <tr style=\"text-align: right;\">\n",
              "      <th></th>\n",
              "      <th>PassengerId</th>\n",
              "      <th>Survived</th>\n",
              "      <th>Pclass</th>\n",
              "      <th>Name</th>\n",
              "      <th>Sex</th>\n",
              "      <th>Age</th>\n",
              "      <th>SibSp</th>\n",
              "      <th>Parch</th>\n",
              "      <th>Ticket</th>\n",
              "      <th>Fare</th>\n",
              "      <th>Cabin</th>\n",
              "      <th>Embarked</th>\n",
              "    </tr>\n",
              "  </thead>\n",
              "  <tbody>\n",
              "    <tr>\n",
              "      <th>0</th>\n",
              "      <td>1</td>\n",
              "      <td>0</td>\n",
              "      <td>3</td>\n",
              "      <td>Braund, Mr. Owen Harris</td>\n",
              "      <td>male</td>\n",
              "      <td>22.0</td>\n",
              "      <td>1</td>\n",
              "      <td>0</td>\n",
              "      <td>A/5 21171</td>\n",
              "      <td>7.2500</td>\n",
              "      <td>NaN</td>\n",
              "      <td>S</td>\n",
              "    </tr>\n",
              "    <tr>\n",
              "      <th>1</th>\n",
              "      <td>2</td>\n",
              "      <td>1</td>\n",
              "      <td>1</td>\n",
              "      <td>Cumings, Mrs. John Bradley (Florence Briggs Th...</td>\n",
              "      <td>female</td>\n",
              "      <td>38.0</td>\n",
              "      <td>1</td>\n",
              "      <td>0</td>\n",
              "      <td>PC 17599</td>\n",
              "      <td>71.2833</td>\n",
              "      <td>C85</td>\n",
              "      <td>C</td>\n",
              "    </tr>\n",
              "    <tr>\n",
              "      <th>2</th>\n",
              "      <td>3</td>\n",
              "      <td>1</td>\n",
              "      <td>3</td>\n",
              "      <td>Heikkinen, Miss. Laina</td>\n",
              "      <td>female</td>\n",
              "      <td>26.0</td>\n",
              "      <td>0</td>\n",
              "      <td>0</td>\n",
              "      <td>STON/O2. 3101282</td>\n",
              "      <td>7.9250</td>\n",
              "      <td>NaN</td>\n",
              "      <td>S</td>\n",
              "    </tr>\n",
              "    <tr>\n",
              "      <th>3</th>\n",
              "      <td>4</td>\n",
              "      <td>1</td>\n",
              "      <td>1</td>\n",
              "      <td>Futrelle, Mrs. Jacques Heath (Lily May Peel)</td>\n",
              "      <td>female</td>\n",
              "      <td>35.0</td>\n",
              "      <td>1</td>\n",
              "      <td>0</td>\n",
              "      <td>113803</td>\n",
              "      <td>53.1000</td>\n",
              "      <td>C123</td>\n",
              "      <td>S</td>\n",
              "    </tr>\n",
              "    <tr>\n",
              "      <th>4</th>\n",
              "      <td>5</td>\n",
              "      <td>0</td>\n",
              "      <td>3</td>\n",
              "      <td>Allen, Mr. William Henry</td>\n",
              "      <td>male</td>\n",
              "      <td>35.0</td>\n",
              "      <td>0</td>\n",
              "      <td>0</td>\n",
              "      <td>373450</td>\n",
              "      <td>8.0500</td>\n",
              "      <td>NaN</td>\n",
              "      <td>S</td>\n",
              "    </tr>\n",
              "    <tr>\n",
              "      <th>5</th>\n",
              "      <td>6</td>\n",
              "      <td>0</td>\n",
              "      <td>3</td>\n",
              "      <td>Moran, Mr. James</td>\n",
              "      <td>male</td>\n",
              "      <td>NaN</td>\n",
              "      <td>0</td>\n",
              "      <td>0</td>\n",
              "      <td>330877</td>\n",
              "      <td>8.4583</td>\n",
              "      <td>NaN</td>\n",
              "      <td>Q</td>\n",
              "    </tr>\n",
              "    <tr>\n",
              "      <th>6</th>\n",
              "      <td>7</td>\n",
              "      <td>0</td>\n",
              "      <td>1</td>\n",
              "      <td>McCarthy, Mr. Timothy J</td>\n",
              "      <td>male</td>\n",
              "      <td>54.0</td>\n",
              "      <td>0</td>\n",
              "      <td>0</td>\n",
              "      <td>17463</td>\n",
              "      <td>51.8625</td>\n",
              "      <td>E46</td>\n",
              "      <td>S</td>\n",
              "    </tr>\n",
              "    <tr>\n",
              "      <th>7</th>\n",
              "      <td>8</td>\n",
              "      <td>0</td>\n",
              "      <td>3</td>\n",
              "      <td>Palsson, Master. Gosta Leonard</td>\n",
              "      <td>male</td>\n",
              "      <td>2.0</td>\n",
              "      <td>3</td>\n",
              "      <td>1</td>\n",
              "      <td>349909</td>\n",
              "      <td>21.0750</td>\n",
              "      <td>NaN</td>\n",
              "      <td>S</td>\n",
              "    </tr>\n",
              "    <tr>\n",
              "      <th>8</th>\n",
              "      <td>9</td>\n",
              "      <td>1</td>\n",
              "      <td>3</td>\n",
              "      <td>Johnson, Mrs. Oscar W (Elisabeth Vilhelmina Berg)</td>\n",
              "      <td>female</td>\n",
              "      <td>27.0</td>\n",
              "      <td>0</td>\n",
              "      <td>2</td>\n",
              "      <td>347742</td>\n",
              "      <td>11.1333</td>\n",
              "      <td>NaN</td>\n",
              "      <td>S</td>\n",
              "    </tr>\n",
              "    <tr>\n",
              "      <th>9</th>\n",
              "      <td>10</td>\n",
              "      <td>1</td>\n",
              "      <td>2</td>\n",
              "      <td>Nasser, Mrs. Nicholas (Adele Achem)</td>\n",
              "      <td>female</td>\n",
              "      <td>14.0</td>\n",
              "      <td>1</td>\n",
              "      <td>0</td>\n",
              "      <td>237736</td>\n",
              "      <td>30.0708</td>\n",
              "      <td>NaN</td>\n",
              "      <td>C</td>\n",
              "    </tr>\n",
              "  </tbody>\n",
              "</table>\n",
              "</div>"
            ],
            "text/plain": [
              "   PassengerId  Survived  Pclass  ...     Fare Cabin  Embarked\n",
              "0            1         0       3  ...   7.2500   NaN         S\n",
              "1            2         1       1  ...  71.2833   C85         C\n",
              "2            3         1       3  ...   7.9250   NaN         S\n",
              "3            4         1       1  ...  53.1000  C123         S\n",
              "4            5         0       3  ...   8.0500   NaN         S\n",
              "5            6         0       3  ...   8.4583   NaN         Q\n",
              "6            7         0       1  ...  51.8625   E46         S\n",
              "7            8         0       3  ...  21.0750   NaN         S\n",
              "8            9         1       3  ...  11.1333   NaN         S\n",
              "9           10         1       2  ...  30.0708   NaN         C\n",
              "\n",
              "[10 rows x 12 columns]"
            ]
          },
          "metadata": {},
          "execution_count": 2
        }
      ]
    },
    {
      "cell_type": "markdown",
      "metadata": {
        "id": "Fwfll6fLWP-3"
      },
      "source": [
        "VARIABLE DESCRIPTIONS:\n",
        "<ol>\n",
        "<li>Survived - Survival (0 = No; 1 = Yes);</li>\n",
        "<li>Pclass - Passenger Class (1 = 1st; 2 = 2nd; 3 = 3rd);</li>\n",
        "<li>Name - Name;</li>\n",
        "<li>Sex - Sex;</li>\n",
        "<li>Age - Age;</li>\n",
        "<li>SibSp - Number of Siblings/Spouses Aboard;</li>\n",
        "<li>Parch - Number of Parents/Children Aboard;</li>\n",
        "<li>Ticket - Ticket Number;</li>\n",
        "<li>Fare - Passenger Fare (British pound);</li>\n",
        "<li>Cabin - Cabin;</li>\n",
        "<li>Embarked - Port of Embarkation (C = Cherbourg; Q = Queenstown; S = Southampton);</li>\n",
        "</ol>\n",
        "\n",
        "Como estamos construindo um modelo para prever a sobrevivência de passageiros do Titanic, nosso alvo será a variável \"Survived\" do dataframe titanic.\n",
        "Para ter certeza de que é uma variável binária, vamos usar a função countplot() do Seaborn."
      ]
    },
    {
      "cell_type": "markdown",
      "metadata": {
        "id": "ki0Jgm90WP-4"
      },
      "source": [
        "Como estamos construindo um modelo para prever a sobrevivência de passageiros do Titanic, nosso alvo será a variável \"Survived\" do dataframe titanic.\n",
        "Para ter certeza de que é uma variável binária, vamos usar a função countplot () do Seaborn."
      ]
    },
    {
      "cell_type": "code",
      "metadata": {
        "scrolled": true,
        "id": "34MGK5ZEWP-5",
        "colab": {
          "base_uri": "https://localhost:8080/",
          "height": 296
        },
        "outputId": "e2695434-ea2f-4a8e-f4da-c8513ac36db8"
      },
      "source": [
        "sb.countplot(x='Survived',data=titanic, palette='hls')"
      ],
      "execution_count": null,
      "outputs": [
        {
          "output_type": "execute_result",
          "data": {
            "text/plain": [
              "<matplotlib.axes._subplots.AxesSubplot at 0x7fd1b3b62490>"
            ]
          },
          "metadata": {},
          "execution_count": 3
        },
        {
          "output_type": "display_data",
          "data": {
            "image/png": "[encoded data removed]",
            "text/plain": [
              "<Figure size 432x288 with 1 Axes>"
            ]
          },
          "metadata": {
            "needs_background": "light"
          }
        }
      ]
    },
    {
      "cell_type": "code",
      "metadata": {
        "id": "YXQYXWc6F4aw",
        "colab": {
          "base_uri": "https://localhost:8080/",
          "height": 296
        },
        "outputId": "1aeb0abb-9b9f-4936-a061-5364794188da"
      },
      "source": [
        "sb.countplot(x='Pclass',data=titanic, palette='hls')"
      ],
      "execution_count": null,
      "outputs": [
        {
          "output_type": "execute_result",
          "data": {
            "text/plain": [
              "<matplotlib.axes._subplots.AxesSubplot at 0x7fd1b35ba290>"
            ]
          },
          "metadata": {},
          "execution_count": 4
        },
        {
          "output_type": "display_data",
          "data": {
            "image/png": "[encoded data removed]",
            "text/plain": [
              "<Figure size 432x288 with 1 Axes>"
            ]
          },
          "metadata": {
            "needs_background": "light"
          }
        }
      ]
    },
    {
      "cell_type": "markdown",
      "metadata": {
        "id": "9KxEyoPGWP-_"
      },
      "source": [
        "### Checking for missing values\n",
        "É fácil checar missing values usando método isnull() com o método sum(), o número retornado condiz com a quantidade True para o teste, ou seja, quantidade de valores nulos nas variaveis"
      ]
    },
    {
      "cell_type": "code",
      "metadata": {
        "id": "o4trtrPAWP_A",
        "colab": {
          "base_uri": "https://localhost:8080/"
        },
        "outputId": "f670bfd1-ab73-481f-da53-3b31bb10ca99"
      },
      "source": [
        "titanic.isnull().sum()"
      ],
      "execution_count": null,
      "outputs": [
        {
          "output_type": "execute_result",
          "data": {
            "text/plain": [
              "PassengerId      0\n",
              "Survived         0\n",
              "Pclass           0\n",
              "Name             0\n",
              "Sex              0\n",
              "Age            177\n",
              "SibSp            0\n",
              "Parch            0\n",
              "Ticket           0\n",
              "Fare             0\n",
              "Cabin          687\n",
              "Embarked         2\n",
              "dtype: int64"
            ]
          },
          "metadata": {},
          "execution_count": 5
        }
      ]
    },
    {
      "cell_type": "code",
      "metadata": {
        "id": "T6iW6XuuWP_F",
        "colab": {
          "base_uri": "https://localhost:8080/"
        },
        "outputId": "edc5ac4b-9dbe-439f-c2bc-bded9419986c"
      },
      "source": [
        "titanic.info()"
      ],
      "execution_count": null,
      "outputs": [
        {
          "output_type": "stream",
          "name": "stdout",
          "text": [
            "<class 'pandas.core.frame.DataFrame'>\n",
            "RangeIndex: 891 entries, 0 to 890\n",
            "Data columns (total 12 columns):\n",
            " #   Column       Non-Null Count  Dtype  \n",
            "---  ------       --------------  -----  \n",
            " 0   PassengerId  891 non-null    int64  \n",
            " 1   Survived     891 non-null    int64  \n",
            " 2   Pclass       891 non-null    int64  \n",
            " 3   Name         891 non-null    object \n",
            " 4   Sex          891 non-null    object \n",
            " 5   Age          714 non-null    float64\n",
            " 6   SibSp        891 non-null    int64  \n",
            " 7   Parch        891 non-null    int64  \n",
            " 8   Ticket       891 non-null    object \n",
            " 9   Fare         891 non-null    float64\n",
            " 10  Cabin        204 non-null    object \n",
            " 11  Embarked     889 non-null    object \n",
            "dtypes: float64(2), int64(5), object(5)\n",
            "memory usage: 83.7+ KB\n"
          ]
        }
      ]
    },
    {
      "cell_type": "markdown",
      "metadata": {
        "id": "bLxihhoEWP_K"
      },
      "source": [
        "Ok, então existem 891 linhas no dataframe. Cabin é quase todo composto por missing values, então podemos eliminar essa característica! Mas e quanto à idade? A age parece um preditor relevante para a sobrevivência, certo? Nós queremos manter as variáveis, mas tem 177 missing values. Precisamos encontrar uma maneira de nos aproximarmos desses valores em falta!\n",
        "\n",
        "E quanto ao nome de uma pessoa, número do bilhete e número de identificação do passageiro? Eles são irrelavantes para prever a capacidade de sobrevivência. E, como você se lembra, a variável cabine é quase todoa com missing values!!"
      ]
    },
    {
      "cell_type": "code",
      "metadata": {
        "id": "ZxDHLHjFWP_L"
      },
      "source": [
        "titanic_data = titanic.drop(['PassengerId','Name','Ticket','Cabin'], axis = 1)\n",
        "titanic_data.head()"
      ],
      "execution_count": null,
      "outputs": []
    },
    {
      "cell_type": "code",
      "metadata": {
        "id": "9KFPMysf5TMF"
      },
      "source": [
        "titanic_data.isnull().sum()"
      ],
      "execution_count": null,
      "outputs": []
    },
    {
      "cell_type": "markdown",
      "metadata": {
        "id": "UNmvL74XWP_R"
      },
      "source": [
        "Agora, o dataframe foi reduzido para apenas variáveis relevantes, mas agora precisamos lidar com os valores ausentes na variável age."
      ]
    },
    {
      "cell_type": "markdown",
      "metadata": {
        "id": "p6PM294iWP_S"
      },
      "source": [
        "### Imputing missing values\n",
        "Vejamos como a idade do passageiro está relacionada à sua classe como passageiro no barco."
      ]
    },
    {
      "cell_type": "code",
      "metadata": {
        "id": "II7SbWCtWP_T"
      },
      "source": [
        "sb.boxplot(x='Pclass', y='Age', data=titanic_data, palette='hls')"
      ],
      "execution_count": null,
      "outputs": []
    },
    {
      "cell_type": "markdown",
      "metadata": {
        "id": "XtyEMd0dWP_X"
      },
      "source": [
        "Falando mais ou menos, poderíamos dizer que quanto mais jovem é um passageiro, mais provável é que ele esteja na 3ª classe. Quanto mais velho for um passageiro, maior a probabilidade de estarem na 1ª classe. Portanto, há um relacionamento frouxo entre essas variáveis. Então, vamos escrever uma função que se aproxime da idade dos passageiros, com base em sua classe. Na caixa, parece que a idade média dos passageiros de 1ª classe é de cerca de 37 anos, os passageiros de 2ª classe são 29 e os passageiros de 3ª classe são 24.\n",
        "\n",
        "Então, vamos escrever uma função que encontre cada valor nulo na variável Age e, para cada nulo, verifique o valor da Pclass e atribua um valor de idade de acordo com a idade média dos passageiros nessa classe."
      ]
    },
    {
      "cell_type": "code",
      "metadata": {
        "id": "SrHf3OwUWP_Y"
      },
      "source": [
        "def age_approx(cols):\n",
        "    Age = cols[0]\n",
        "    Pclass = cols[1]\n",
        "    \n",
        "    if pd.isnull(Age):\n",
        "        if Pclass == 1:\n",
        "            return 37\n",
        "        elif Pclass == 2:\n",
        "            return 29\n",
        "        else:\n",
        "            return 24\n",
        "    else:\n",
        "        return Age"
      ],
      "execution_count": null,
      "outputs": []
    },
    {
      "cell_type": "markdown",
      "metadata": {
        "id": "1cVvuI3CWP_b"
      },
      "source": [
        "Após definir a função, vamos executar apenas para os valores nulos de Age"
      ]
    },
    {
      "cell_type": "code",
      "metadata": {
        "id": "BCRN9frT60pu"
      },
      "source": [
        "titanic_data[['Age', 'Pclass']]"
      ],
      "execution_count": null,
      "outputs": []
    },
    {
      "cell_type": "code",
      "metadata": {
        "id": "eXPxKs217Mgr"
      },
      "source": [
        "titanic_data[['Age', 'Pclass']].apply(age_approx, axis=1)"
      ],
      "execution_count": null,
      "outputs": []
    },
    {
      "cell_type": "code",
      "metadata": {
        "id": "7LUz8wRiWP_c"
      },
      "source": [
        "titanic_data['Age'] = titanic_data[['Age', 'Pclass']].apply(age_approx, axis=1)\n",
        "titanic_data.isnull().sum()"
      ],
      "execution_count": null,
      "outputs": []
    },
    {
      "cell_type": "markdown",
      "metadata": {
        "id": "z-c2Fqo7WP_e"
      },
      "source": [
        "Existem ainda 2 valores nulos na variável Embarked. Podemos eliminar esses dois registros sem perder muitas informações importantes do nosso conjunto de dados, então faremos isso."
      ]
    },
    {
      "cell_type": "code",
      "metadata": {
        "id": "-nmYoRLVWP_f"
      },
      "source": [
        "titanic_data.dropna(inplace=True)\n",
        "titanic_data.isnull().sum()"
      ],
      "execution_count": null,
      "outputs": []
    },
    {
      "cell_type": "code",
      "metadata": {
        "id": "mYRMrh4qIWso"
      },
      "source": [
        "titanic_data.head()"
      ],
      "execution_count": null,
      "outputs": []
    },
    {
      "cell_type": "markdown",
      "metadata": {
        "id": "eHfIl52IWP_i"
      },
      "source": [
        "Convertendo variaveis categóricas com one-hot-enconding (via pandas usa-se a função get_dummies)\n",
        "![Exemplo de One Hoting Encoding](https://telescopeinstorage.blob.core.windows.net/datasets/onehotencoding.jpg)"
      ]
    },
    {
      "cell_type": "code",
      "metadata": {
        "id": "bZlcXF758ZN8"
      },
      "source": [
        "aux = pd.get_dummies(titanic_data['Sex'],drop_first=False)\n",
        "aux.head()"
      ],
      "execution_count": null,
      "outputs": []
    },
    {
      "cell_type": "code",
      "metadata": {
        "id": "8s2ArXNMWP_j"
      },
      "source": [
        "gender = pd.get_dummies(titanic_data['Sex'],drop_first=True)\n",
        "gender.head()"
      ],
      "execution_count": null,
      "outputs": []
    },
    {
      "cell_type": "code",
      "metadata": {
        "id": "ZjuX0EbcWP_l"
      },
      "source": [
        "embark_location = pd.get_dummies(titanic_data['Embarked'],drop_first=True)\n",
        "embark_location.head(10)"
      ],
      "execution_count": null,
      "outputs": []
    },
    {
      "cell_type": "code",
      "metadata": {
        "id": "_-Q58_5jWP_o"
      },
      "source": [
        "titanic_data.drop(['Sex', 'Embarked'],axis=1,inplace=True)\n",
        "titanic_data.head()"
      ],
      "execution_count": null,
      "outputs": []
    },
    {
      "cell_type": "code",
      "metadata": {
        "id": "qzzrXSbgWP_q"
      },
      "source": [
        "titanic_dmy = pd.concat([titanic_data,gender,embark_location],axis=1)\n",
        "titanic_dmy.head()"
      ],
      "execution_count": null,
      "outputs": []
    },
    {
      "cell_type": "code",
      "metadata": {
        "id": "_Bmc1GnjkQa4"
      },
      "source": [
        "titanic_dmy.info()"
      ],
      "execution_count": null,
      "outputs": []
    },
    {
      "cell_type": "markdown",
      "metadata": {
        "id": "39CqzS5HWP_t"
      },
      "source": [
        "Agora temos um conjunto de dados com todas as variáveis no formato correto!\n",
        "### Validando independencia entre as variáveis"
      ]
    },
    {
      "cell_type": "code",
      "metadata": {
        "id": "sAIHy59gWP_t"
      },
      "source": [
        "sb.heatmap(titanic_dmy.corr())  "
      ],
      "execution_count": null,
      "outputs": []
    },
    {
      "cell_type": "markdown",
      "metadata": {
        "id": "dlrHxQuGWP_w"
      },
      "source": [
        "Fare e Pclass não sao independentes uma com a outra, entao vamos excluí-las."
      ]
    },
    {
      "cell_type": "code",
      "metadata": {
        "id": "dB5qb9-oWP_x"
      },
      "source": [
        "titanic_dmy.drop(['Pclass'],axis=1,inplace=True)\n",
        "titanic_dmy.head()"
      ],
      "execution_count": null,
      "outputs": []
    },
    {
      "cell_type": "markdown",
      "metadata": {
        "id": "tCQWo4rnWP_0"
      },
      "source": [
        "O mesmo processo vale para as características C e Q"
      ]
    },
    {
      "cell_type": "code",
      "metadata": {
        "id": "gCzEgauLWP_0"
      },
      "source": [
        "titanic_dmy.drop(['Q'],axis=1,inplace=True)\n",
        "titanic_dmy.head()"
      ],
      "execution_count": null,
      "outputs": []
    },
    {
      "cell_type": "markdown",
      "metadata": {
        "id": "QP__opAzWP_2"
      },
      "source": [
        "### Agora Vamos Classificar!\n",
        "\n",
        "1º: Separar o conjunto em variavel resposta e características de treinamento"
      ]
    },
    {
      "cell_type": "code",
      "metadata": {
        "id": "NxhTxzZdWP_3"
      },
      "source": [
        "X = titanic_dmy.iloc[:,[1,2,3,4,5,6]].values\n",
        "y = titanic_dmy.iloc[:,0].values"
      ],
      "execution_count": null,
      "outputs": []
    },
    {
      "cell_type": "code",
      "metadata": {
        "id": "wfikeiL2cH_E"
      },
      "source": [
        "X.shape"
      ],
      "execution_count": null,
      "outputs": []
    },
    {
      "cell_type": "code",
      "metadata": {
        "id": "r3pTioYwcJuG"
      },
      "source": [
        "X"
      ],
      "execution_count": null,
      "outputs": []
    },
    {
      "cell_type": "code",
      "metadata": {
        "id": "ZoeRkHyPh9M7"
      },
      "source": [
        "len(y)"
      ],
      "execution_count": null,
      "outputs": []
    },
    {
      "cell_type": "code",
      "metadata": {
        "id": "9cFBlxcS9aMM"
      },
      "source": [
        "y"
      ],
      "execution_count": null,
      "outputs": []
    },
    {
      "cell_type": "markdown",
      "metadata": {
        "id": "nQIIbvEUWP_5"
      },
      "source": [
        "Normalização do Conjunto"
      ]
    },
    {
      "cell_type": "code",
      "metadata": {
        "id": "YTaMxJCvWP_6"
      },
      "source": [
        "X = StandardScaler().fit_transform(X)"
      ],
      "execution_count": null,
      "outputs": []
    },
    {
      "cell_type": "code",
      "metadata": {
        "id": "YighZt5_GjAo"
      },
      "source": [
        "X"
      ],
      "execution_count": null,
      "outputs": []
    },
    {
      "cell_type": "markdown",
      "metadata": {
        "id": "CesbZNAFWP_9"
      },
      "source": [
        "Agora dividir em treino e teste (teste com 30%)"
      ]
    },
    {
      "cell_type": "code",
      "metadata": {
        "id": "tiaydEIUWP_-"
      },
      "source": [
        "X_train, X_test, y_train, y_test = train_test_split(X, y, test_size = .3, random_state=25)"
      ],
      "execution_count": null,
      "outputs": []
    },
    {
      "cell_type": "code",
      "metadata": {
        "id": "Pfe9MisAhBha"
      },
      "source": [
        "X_train.shape"
      ],
      "execution_count": null,
      "outputs": []
    },
    {
      "cell_type": "code",
      "metadata": {
        "id": "2QS-4BA2-itt"
      },
      "source": [
        "X_test.shape"
      ],
      "execution_count": null,
      "outputs": []
    },
    {
      "cell_type": "markdown",
      "metadata": {
        "id": "1CYttvfhWQAA"
      },
      "source": [
        "#### Cria o Modelo de Rede Neural\n",
        "\n",
        "![Modelo de RNA](https://telescopeinstorage.blob.core.windows.net/datasets/RNA_6_16_1.png)"
      ]
    },
    {
      "cell_type": "code",
      "metadata": {
        "id": "SxZQx2XhWQAA"
      },
      "source": [
        "model = Sequential()\n",
        "model.add(Dense(16, input_dim=6, activation='relu'))\n",
        "model.add(Dense(1, activation='sigmoid'))"
      ],
      "execution_count": null,
      "outputs": []
    },
    {
      "cell_type": "markdown",
      "metadata": {
        "id": "qx2yOiyhWQAD"
      },
      "source": [
        "Compila do modelo para certificar que está correto utilizando a função de perda binary_crossentropy, gradiente adam e monitorará a acurácia ao longo do processo de treinamento:"
      ]
    },
    {
      "cell_type": "code",
      "metadata": {
        "id": "ehpn--2qWQAD"
      },
      "source": [
        "model.compile(loss='binary_crossentropy', optimizer='adam', metrics=['accuracy'])"
      ],
      "execution_count": null,
      "outputs": []
    },
    {
      "cell_type": "markdown",
      "metadata": {
        "id": "C4EWvw-dWQAG"
      },
      "source": [
        "Apresenta a configuração da rede:"
      ]
    },
    {
      "cell_type": "code",
      "metadata": {
        "id": "P1CPqaorWQAG"
      },
      "source": [
        "print(model.summary())\n",
        "\n",
        "plot_model(model, to_file='mlp-seq.png', show_shapes=True, show_layer_names=True)"
      ],
      "execution_count": null,
      "outputs": []
    },
    {
      "cell_type": "markdown",
      "metadata": {
        "id": "3jYoxRBdWQAJ"
      },
      "source": [
        "Realiza o treinamento com 100 épocas e o tamanho do batch igual a 10, lembrando que a cada batch o processo de calibragem dos neurônios é realizado novamente (backpropagation). Uma época termina quando todas as amostras de treinamento passam pela rede."
      ]
    },
    {
      "cell_type": "code",
      "metadata": {
        "id": "hWJwBihiWQAJ"
      },
      "source": [
        "history  = model.fit(X_train, y_train, epochs=100, batch_size=10)"
      ],
      "execution_count": null,
      "outputs": []
    },
    {
      "cell_type": "markdown",
      "metadata": {
        "id": "ayw2OMUtWQAL"
      },
      "source": [
        "Faz a plotagem a acurácia de treinamento ao longo das épocas"
      ]
    },
    {
      "cell_type": "code",
      "metadata": {
        "id": "BjT90PJnWQAM"
      },
      "source": [
        "plt.plot(history.history['accuracy'])\n",
        "plt.title('Model accuracy')\n",
        "plt.ylabel('Accuracy')\n",
        "plt.xlabel('Epoch')\n",
        "plt.legend(['Train', 'Test'], loc='upper left')\n",
        "plt.show()\n"
      ],
      "execution_count": null,
      "outputs": []
    },
    {
      "cell_type": "code",
      "metadata": {
        "id": "llBVenFWijVb"
      },
      "source": [
        "plt.plot(history.history['loss'])\n",
        "plt.title('Model loss')\n",
        "plt.ylabel('loss')\n",
        "plt.xlabel('Epoch')\n",
        "plt.legend(['Train', 'Test'], loc='upper left')\n",
        "plt.show()"
      ],
      "execution_count": null,
      "outputs": []
    },
    {
      "cell_type": "markdown",
      "metadata": {
        "id": "leNMr062WQAO"
      },
      "source": [
        "Realiza as predições do conjunto de teste obtendo a saída real (numérica) do Neurônio"
      ]
    },
    {
      "cell_type": "code",
      "metadata": {
        "id": "sOSd2WVQWQAO"
      },
      "source": [
        "y_pred_out  = model.predict(X_test)\n",
        "print(y_pred_out)"
      ],
      "execution_count": null,
      "outputs": []
    },
    {
      "cell_type": "markdown",
      "metadata": {
        "id": "_x02SecEWQAR"
      },
      "source": [
        "Realiza as predições do conjunto de teste obtendo a classe do problema:"
      ]
    },
    {
      "cell_type": "code",
      "metadata": {
        "id": "gjv4gdF2nynR"
      },
      "source": [
        "y_test"
      ],
      "execution_count": null,
      "outputs": []
    },
    {
      "cell_type": "code",
      "metadata": {
        "id": "DIa3OHhvWQAS"
      },
      "source": [
        "y_pred_classes = (y_pred_out > 0.5).astype(int) \n",
        "y_pred_classes\n"
      ],
      "execution_count": null,
      "outputs": []
    },
    {
      "cell_type": "code",
      "metadata": {
        "id": "bHBIOoX65jB-"
      },
      "source": [
        "y_test"
      ],
      "execution_count": null,
      "outputs": []
    },
    {
      "cell_type": "markdown",
      "metadata": {
        "id": "CMzal83cWQAU"
      },
      "source": [
        "Avalia o modelo sob o ponto de vista da acurácia no conjunto de teste:"
      ]
    },
    {
      "cell_type": "code",
      "metadata": {
        "id": "B4ER488MWQAV"
      },
      "source": [
        "scores = model.evaluate(X_test, y_test)\n",
        "print(\"\\n%s: %.2f%%\" % (model.metrics_names[1], scores[1]*100))"
      ],
      "execution_count": null,
      "outputs": []
    },
    {
      "cell_type": "code",
      "metadata": {
        "id": "WFV33qJtIuFt"
      },
      "source": [
        "scores"
      ],
      "execution_count": null,
      "outputs": []
    },
    {
      "cell_type": "code",
      "metadata": {
        "id": "VYaz1n2YWQAX"
      },
      "source": [
        "model.metrics_names"
      ],
      "execution_count": null,
      "outputs": []
    }
  ]
}