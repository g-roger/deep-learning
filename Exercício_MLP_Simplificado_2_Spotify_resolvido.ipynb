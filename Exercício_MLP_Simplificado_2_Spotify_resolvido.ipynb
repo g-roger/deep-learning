{
  "nbformat": 4,
  "nbformat_minor": 0,
  "metadata": {
    "colab": {
      "name": "Exercício MLP Simplificado 2  Spotify- resolvido.ipynb",
      "provenance": [],
      "collapsed_sections": [],
      "include_colab_link": true
    },
    "kernelspec": {
      "name": "python3",
      "display_name": "Python 3"
    }
  },
  "cells": [
    {
      "cell_type": "markdown",
      "metadata": {
        "id": "view-in-github",
        "colab_type": "text"
      },
      "source": [
        "<a href=\"https://colab.research.google.com/github/g-roger/deep-learning/blob/master/Exerc%C3%ADcio_MLP_Simplificado_2_Spotify_resolvido.ipynb\" target=\"_parent\"><img src=\"https://colab.research.google.com/assets/colab-badge.svg\" alt=\"Open In Colab\"/></a>"
      ]
    },
    {
      "cell_type": "code",
      "metadata": {
        "id": "M5qO99ctrfad"
      },
      "source": [
        "import pandas as pd\n",
        "import seaborn as sb\n",
        "import matplotlib.pyplot as plt\n",
        "\n",
        "from sklearn.model_selection import train_test_split\n",
        "from sklearn.metrics import classification_report, plot_confusion_matrix,accuracy_score\n",
        "from sklearn.preprocessing import StandardScaler, MinMaxScaler\n",
        "\n",
        "from keras.models import Sequential, Model\n",
        "from keras.layers import Input, Dense\n",
        "#necessita do pydot pip install pydot\n",
        "import pydot"
      ],
      "execution_count": 42,
      "outputs": []
    },
    {
      "cell_type": "markdown",
      "metadata": {
        "id": "0ZkAeC-xhd04"
      },
      "source": [
        "###Carga do Dataset"
      ]
    },
    {
      "cell_type": "code",
      "metadata": {
        "id": "ZVaf_v1ohltE",
        "colab": {
          "base_uri": "https://localhost:8080/",
          "height": 295
        },
        "outputId": "97a606de-29de-4242-8caf-7b5e3dbec193"
      },
      "source": [
        "url = 'https://telescopeinstorage.blob.core.windows.net/datasets/DadosSpotify.csv'\n",
        "dataset = pd.read_csv(url, engine='python')\n",
        "dataset.head()"
      ],
      "execution_count": 43,
      "outputs": [
        {
          "output_type": "execute_result",
          "data": {
            "text/html": [
              "<div>\n",
              "<style scoped>\n",
              "    .dataframe tbody tr th:only-of-type {\n",
              "        vertical-align: middle;\n",
              "    }\n",
              "\n",
              "    .dataframe tbody tr th {\n",
              "        vertical-align: top;\n",
              "    }\n",
              "\n",
              "    .dataframe thead th {\n",
              "        text-align: right;\n",
              "    }\n",
              "</style>\n",
              "<table border=\"1\" class=\"dataframe\">\n",
              "  <thead>\n",
              "    <tr style=\"text-align: right;\">\n",
              "      <th></th>\n",
              "      <th>id</th>\n",
              "      <th>acousticness</th>\n",
              "      <th>danceability</th>\n",
              "      <th>duration_ms</th>\n",
              "      <th>energy</th>\n",
              "      <th>instrumentalness</th>\n",
              "      <th>key</th>\n",
              "      <th>liveness</th>\n",
              "      <th>loudness</th>\n",
              "      <th>mode</th>\n",
              "      <th>speechiness</th>\n",
              "      <th>tempo</th>\n",
              "      <th>time_signature</th>\n",
              "      <th>valence</th>\n",
              "      <th>target</th>\n",
              "      <th>song_title</th>\n",
              "      <th>artist</th>\n",
              "    </tr>\n",
              "  </thead>\n",
              "  <tbody>\n",
              "    <tr>\n",
              "      <th>0</th>\n",
              "      <td>0</td>\n",
              "      <td>0.0102</td>\n",
              "      <td>0.833</td>\n",
              "      <td>204600</td>\n",
              "      <td>0.434</td>\n",
              "      <td>0.021900</td>\n",
              "      <td>2</td>\n",
              "      <td>0.1650</td>\n",
              "      <td>-8.795</td>\n",
              "      <td>1</td>\n",
              "      <td>0.4310</td>\n",
              "      <td>150.062</td>\n",
              "      <td>4.0</td>\n",
              "      <td>0.286</td>\n",
              "      <td>1</td>\n",
              "      <td>Mask Off</td>\n",
              "      <td>Future</td>\n",
              "    </tr>\n",
              "    <tr>\n",
              "      <th>1</th>\n",
              "      <td>1</td>\n",
              "      <td>0.1990</td>\n",
              "      <td>0.743</td>\n",
              "      <td>326933</td>\n",
              "      <td>0.359</td>\n",
              "      <td>0.006110</td>\n",
              "      <td>1</td>\n",
              "      <td>0.1370</td>\n",
              "      <td>-10.401</td>\n",
              "      <td>1</td>\n",
              "      <td>0.0794</td>\n",
              "      <td>160.083</td>\n",
              "      <td>4.0</td>\n",
              "      <td>0.588</td>\n",
              "      <td>1</td>\n",
              "      <td>Redbone</td>\n",
              "      <td>Childish Gambino</td>\n",
              "    </tr>\n",
              "    <tr>\n",
              "      <th>2</th>\n",
              "      <td>2</td>\n",
              "      <td>0.0344</td>\n",
              "      <td>0.838</td>\n",
              "      <td>185707</td>\n",
              "      <td>0.412</td>\n",
              "      <td>0.000234</td>\n",
              "      <td>2</td>\n",
              "      <td>0.1590</td>\n",
              "      <td>-7.148</td>\n",
              "      <td>1</td>\n",
              "      <td>0.2890</td>\n",
              "      <td>75.044</td>\n",
              "      <td>4.0</td>\n",
              "      <td>0.173</td>\n",
              "      <td>1</td>\n",
              "      <td>Xanny Family</td>\n",
              "      <td>Future</td>\n",
              "    </tr>\n",
              "    <tr>\n",
              "      <th>3</th>\n",
              "      <td>3</td>\n",
              "      <td>0.6040</td>\n",
              "      <td>0.494</td>\n",
              "      <td>199413</td>\n",
              "      <td>0.338</td>\n",
              "      <td>0.510000</td>\n",
              "      <td>5</td>\n",
              "      <td>0.0922</td>\n",
              "      <td>-15.236</td>\n",
              "      <td>1</td>\n",
              "      <td>0.0261</td>\n",
              "      <td>86.468</td>\n",
              "      <td>4.0</td>\n",
              "      <td>0.230</td>\n",
              "      <td>1</td>\n",
              "      <td>Master Of None</td>\n",
              "      <td>Beach House</td>\n",
              "    </tr>\n",
              "    <tr>\n",
              "      <th>4</th>\n",
              "      <td>4</td>\n",
              "      <td>0.1800</td>\n",
              "      <td>0.678</td>\n",
              "      <td>392893</td>\n",
              "      <td>0.561</td>\n",
              "      <td>0.512000</td>\n",
              "      <td>5</td>\n",
              "      <td>0.4390</td>\n",
              "      <td>-11.648</td>\n",
              "      <td>0</td>\n",
              "      <td>0.0694</td>\n",
              "      <td>174.004</td>\n",
              "      <td>4.0</td>\n",
              "      <td>0.904</td>\n",
              "      <td>1</td>\n",
              "      <td>Parallel Lines</td>\n",
              "      <td>Junior Boys</td>\n",
              "    </tr>\n",
              "  </tbody>\n",
              "</table>\n",
              "</div>"
            ],
            "text/plain": [
              "   id  acousticness  danceability  ...  target      song_title            artist\n",
              "0   0        0.0102         0.833  ...       1        Mask Off            Future\n",
              "1   1        0.1990         0.743  ...       1         Redbone  Childish Gambino\n",
              "2   2        0.0344         0.838  ...       1    Xanny Family            Future\n",
              "3   3        0.6040         0.494  ...       1  Master Of None       Beach House\n",
              "4   4        0.1800         0.678  ...       1  Parallel Lines       Junior Boys\n",
              "\n",
              "[5 rows x 17 columns]"
            ]
          },
          "metadata": {},
          "execution_count": 43
        }
      ]
    },
    {
      "cell_type": "code",
      "metadata": {
        "colab": {
          "base_uri": "https://localhost:8080/"
        },
        "id": "Grt1ru8dxPF1",
        "outputId": "702a969e-381f-44fb-f83a-dc1a517e48e8"
      },
      "source": [
        "dataset.shape"
      ],
      "execution_count": 44,
      "outputs": [
        {
          "output_type": "execute_result",
          "data": {
            "text/plain": [
              "(2017, 17)"
            ]
          },
          "metadata": {},
          "execution_count": 44
        }
      ]
    },
    {
      "cell_type": "markdown",
      "metadata": {
        "id": "l8THvs-8s5E0"
      },
      "source": [
        "###Pré-processamento"
      ]
    },
    {
      "cell_type": "code",
      "metadata": {
        "id": "8YKSPSsSr0jh",
        "colab": {
          "base_uri": "https://localhost:8080/"
        },
        "outputId": "a9b222e1-a902-4457-aafb-d6489afd6b8c"
      },
      "source": [
        "#Coloque Aqui as fases de pré-processamento\n",
        "dataset.info()"
      ],
      "execution_count": 45,
      "outputs": [
        {
          "output_type": "stream",
          "name": "stdout",
          "text": [
            "<class 'pandas.core.frame.DataFrame'>\n",
            "RangeIndex: 2017 entries, 0 to 2016\n",
            "Data columns (total 17 columns):\n",
            " #   Column            Non-Null Count  Dtype  \n",
            "---  ------            --------------  -----  \n",
            " 0   id                2017 non-null   int64  \n",
            " 1   acousticness      2017 non-null   float64\n",
            " 2   danceability      2017 non-null   float64\n",
            " 3   duration_ms       2017 non-null   int64  \n",
            " 4   energy            2017 non-null   float64\n",
            " 5   instrumentalness  2017 non-null   float64\n",
            " 6   key               2017 non-null   int64  \n",
            " 7   liveness          2017 non-null   float64\n",
            " 8   loudness          2017 non-null   float64\n",
            " 9   mode              2017 non-null   int64  \n",
            " 10  speechiness       2017 non-null   float64\n",
            " 11  tempo             2017 non-null   float64\n",
            " 12  time_signature    2017 non-null   float64\n",
            " 13  valence           2017 non-null   float64\n",
            " 14  target            2017 non-null   int64  \n",
            " 15  song_title        2017 non-null   object \n",
            " 16  artist            2017 non-null   object \n",
            "dtypes: float64(10), int64(5), object(2)\n",
            "memory usage: 268.0+ KB\n"
          ]
        }
      ]
    },
    {
      "cell_type": "code",
      "metadata": {
        "id": "2hibVepQgg0a"
      },
      "source": [
        "dataset.drop(['id', 'song_title', 'artist'], axis=1, inplace=True)"
      ],
      "execution_count": 46,
      "outputs": []
    },
    {
      "cell_type": "code",
      "metadata": {
        "id": "-BxHDel8hVyB",
        "colab": {
          "base_uri": "https://localhost:8080/"
        },
        "outputId": "09b7fd0c-33bc-42cd-a13a-b650d87ace72"
      },
      "source": [
        "dataset.columns\n"
      ],
      "execution_count": 47,
      "outputs": [
        {
          "output_type": "execute_result",
          "data": {
            "text/plain": [
              "Index(['acousticness', 'danceability', 'duration_ms', 'energy',\n",
              "       'instrumentalness', 'key', 'liveness', 'loudness', 'mode',\n",
              "       'speechiness', 'tempo', 'time_signature', 'valence', 'target'],\n",
              "      dtype='object')"
            ]
          },
          "metadata": {},
          "execution_count": 47
        }
      ]
    },
    {
      "cell_type": "code",
      "metadata": {
        "colab": {
          "base_uri": "https://localhost:8080/"
        },
        "id": "tl5U15UDg6Xd",
        "outputId": "e4264298-b629-46c5-830b-3de1ceacf886"
      },
      "source": [
        "dataset.info()"
      ],
      "execution_count": 48,
      "outputs": [
        {
          "output_type": "stream",
          "name": "stdout",
          "text": [
            "<class 'pandas.core.frame.DataFrame'>\n",
            "RangeIndex: 2017 entries, 0 to 2016\n",
            "Data columns (total 14 columns):\n",
            " #   Column            Non-Null Count  Dtype  \n",
            "---  ------            --------------  -----  \n",
            " 0   acousticness      2017 non-null   float64\n",
            " 1   danceability      2017 non-null   float64\n",
            " 2   duration_ms       2017 non-null   int64  \n",
            " 3   energy            2017 non-null   float64\n",
            " 4   instrumentalness  2017 non-null   float64\n",
            " 5   key               2017 non-null   int64  \n",
            " 6   liveness          2017 non-null   float64\n",
            " 7   loudness          2017 non-null   float64\n",
            " 8   mode              2017 non-null   int64  \n",
            " 9   speechiness       2017 non-null   float64\n",
            " 10  tempo             2017 non-null   float64\n",
            " 11  time_signature    2017 non-null   float64\n",
            " 12  valence           2017 non-null   float64\n",
            " 13  target            2017 non-null   int64  \n",
            "dtypes: float64(10), int64(4)\n",
            "memory usage: 220.7 KB\n"
          ]
        }
      ]
    },
    {
      "cell_type": "code",
      "metadata": {
        "id": "cgH-0lXug6Z7"
      },
      "source": [
        "X = dataset.drop(['target'], axis=1).values\n",
        "y = dataset['target'].values"
      ],
      "execution_count": 49,
      "outputs": []
    },
    {
      "cell_type": "code",
      "metadata": {
        "id": "vfb6kDK7hW_V"
      },
      "source": [
        "#Separação do Conjunto de Treinamento e Teste\n",
        "X_train, X_test, y_train, y_test = train_test_split(X,y, test_size=0.3, random_state=42)"
      ],
      "execution_count": 50,
      "outputs": []
    },
    {
      "cell_type": "code",
      "metadata": {
        "id": "_yHoPWtThY2u"
      },
      "source": [
        "# normalização do conjunto\n",
        "scaler = StandardScaler()\n",
        "scaler.fit(X_train)\n",
        "\n",
        "X_train = scaler.transform(X_train)\n",
        "X_test = scaler.transform(X_test)"
      ],
      "execution_count": 51,
      "outputs": []
    },
    {
      "cell_type": "code",
      "metadata": {
        "colab": {
          "base_uri": "https://localhost:8080/"
        },
        "id": "l-uzjtJPhY52",
        "outputId": "1bae6a22-c6e9-456e-b1c3-2321485ccf20"
      },
      "source": [
        "X_train.shape"
      ],
      "execution_count": 52,
      "outputs": [
        {
          "output_type": "execute_result",
          "data": {
            "text/plain": [
              "(1411, 13)"
            ]
          },
          "metadata": {},
          "execution_count": 52
        }
      ]
    },
    {
      "cell_type": "code",
      "metadata": {
        "colab": {
          "base_uri": "https://localhost:8080/"
        },
        "id": "jDP9NXqvjNhp",
        "outputId": "96e8203a-966a-4269-cd6c-fdbac9d3810b"
      },
      "source": [
        "X_test.shape"
      ],
      "execution_count": 53,
      "outputs": [
        {
          "output_type": "execute_result",
          "data": {
            "text/plain": [
              "(606, 13)"
            ]
          },
          "metadata": {},
          "execution_count": 53
        }
      ]
    },
    {
      "cell_type": "markdown",
      "metadata": {
        "id": "n_U7gvS_tA7y"
      },
      "source": [
        "###Classificação"
      ]
    },
    {
      "cell_type": "code",
      "metadata": {
        "id": "jJfz602RhP4X"
      },
      "source": [
        "#Modelo da Rede MLP\n",
        "#A feauture vem em primeiro lugar, depois a quantidade de neuronios das hidden layers\n",
        "model_spotify = Sequential()\n",
        "model_spotify.add(Dense(7, input_dim = X_train.shape[1], activation='relu'))\n",
        "model_spotify.add(Dense(7, input_dim = X_train.shape[1], activation='relu'))\n",
        "model_spotify.add(Dense(1, activation = 'sigmoid'))"
      ],
      "execution_count": 92,
      "outputs": []
    },
    {
      "cell_type": "code",
      "metadata": {
        "id": "3h_cDIfjtmkq"
      },
      "source": [
        "model_spotify.compile(loss='binary_crossentropy', optimizer='adam', metrics=['accuracy'])"
      ],
      "execution_count": 93,
      "outputs": []
    },
    {
      "cell_type": "code",
      "metadata": {
        "colab": {
          "base_uri": "https://localhost:8080/"
        },
        "id": "y_CHCAQlnDIB",
        "outputId": "ba0cd9e5-5d35-4875-c83b-bde83eeaa1e8"
      },
      "source": [
        "#Processo de treinamento com 70% dos dados\n",
        "historico = model_spotify.fit(X_train, y_train, epochs=100, batch_size=70)"
      ],
      "execution_count": 94,
      "outputs": [
        {
          "output_type": "stream",
          "name": "stdout",
          "text": [
            "Epoch 1/100\n",
            "21/21 [==============================] - 1s 2ms/step - loss: 0.7336 - accuracy: 0.5216\n",
            "Epoch 2/100\n",
            "21/21 [==============================] - 0s 2ms/step - loss: 0.7094 - accuracy: 0.5351\n",
            "Epoch 3/100\n",
            "21/21 [==============================] - 0s 2ms/step - loss: 0.6945 - accuracy: 0.5493\n",
            "Epoch 4/100\n",
            "21/21 [==============================] - 0s 2ms/step - loss: 0.6833 - accuracy: 0.5592\n",
            "Epoch 5/100\n",
            "21/21 [==============================] - 0s 2ms/step - loss: 0.6747 - accuracy: 0.5847\n",
            "Epoch 6/100\n",
            "21/21 [==============================] - 0s 2ms/step - loss: 0.6676 - accuracy: 0.5960\n",
            "Epoch 7/100\n",
            "21/21 [==============================] - 0s 2ms/step - loss: 0.6612 - accuracy: 0.5974\n",
            "Epoch 8/100\n",
            "21/21 [==============================] - 0s 2ms/step - loss: 0.6561 - accuracy: 0.6116\n",
            "Epoch 9/100\n",
            "21/21 [==============================] - 0s 2ms/step - loss: 0.6512 - accuracy: 0.6215\n",
            "Epoch 10/100\n",
            "21/21 [==============================] - 0s 2ms/step - loss: 0.6469 - accuracy: 0.6237\n",
            "Epoch 11/100\n",
            "21/21 [==============================] - 0s 2ms/step - loss: 0.6430 - accuracy: 0.6308\n",
            "Epoch 12/100\n",
            "21/21 [==============================] - 0s 2ms/step - loss: 0.6392 - accuracy: 0.6435\n",
            "Epoch 13/100\n",
            "21/21 [==============================] - 0s 2ms/step - loss: 0.6357 - accuracy: 0.6414\n",
            "Epoch 14/100\n",
            "21/21 [==============================] - 0s 2ms/step - loss: 0.6318 - accuracy: 0.6527\n",
            "Epoch 15/100\n",
            "21/21 [==============================] - 0s 2ms/step - loss: 0.6282 - accuracy: 0.6577\n",
            "Epoch 16/100\n",
            "21/21 [==============================] - 0s 2ms/step - loss: 0.6247 - accuracy: 0.6591\n",
            "Epoch 17/100\n",
            "21/21 [==============================] - 0s 2ms/step - loss: 0.6214 - accuracy: 0.6662\n",
            "Epoch 18/100\n",
            "21/21 [==============================] - 0s 2ms/step - loss: 0.6182 - accuracy: 0.6683\n",
            "Epoch 19/100\n",
            "21/21 [==============================] - 0s 2ms/step - loss: 0.6154 - accuracy: 0.6690\n",
            "Epoch 20/100\n",
            "21/21 [==============================] - 0s 2ms/step - loss: 0.6124 - accuracy: 0.6704\n",
            "Epoch 21/100\n",
            "21/21 [==============================] - 0s 2ms/step - loss: 0.6098 - accuracy: 0.6747\n",
            "Epoch 22/100\n",
            "21/21 [==============================] - 0s 2ms/step - loss: 0.6071 - accuracy: 0.6733\n",
            "Epoch 23/100\n",
            "21/21 [==============================] - 0s 2ms/step - loss: 0.6047 - accuracy: 0.6747\n",
            "Epoch 24/100\n",
            "21/21 [==============================] - 0s 2ms/step - loss: 0.6028 - accuracy: 0.6740\n",
            "Epoch 25/100\n",
            "21/21 [==============================] - 0s 2ms/step - loss: 0.6001 - accuracy: 0.6747\n",
            "Epoch 26/100\n",
            "21/21 [==============================] - 0s 2ms/step - loss: 0.5975 - accuracy: 0.6811\n",
            "Epoch 27/100\n",
            "21/21 [==============================] - 0s 2ms/step - loss: 0.5952 - accuracy: 0.6804\n",
            "Epoch 28/100\n",
            "21/21 [==============================] - 0s 2ms/step - loss: 0.5932 - accuracy: 0.6832\n",
            "Epoch 29/100\n",
            "21/21 [==============================] - 0s 2ms/step - loss: 0.5915 - accuracy: 0.6853\n",
            "Epoch 30/100\n",
            "21/21 [==============================] - 0s 2ms/step - loss: 0.5901 - accuracy: 0.6867\n",
            "Epoch 31/100\n",
            "21/21 [==============================] - 0s 2ms/step - loss: 0.5883 - accuracy: 0.6903\n",
            "Epoch 32/100\n",
            "21/21 [==============================] - 0s 2ms/step - loss: 0.5867 - accuracy: 0.6889\n",
            "Epoch 33/100\n",
            "21/21 [==============================] - 0s 2ms/step - loss: 0.5855 - accuracy: 0.6931\n",
            "Epoch 34/100\n",
            "21/21 [==============================] - 0s 2ms/step - loss: 0.5841 - accuracy: 0.6931\n",
            "Epoch 35/100\n",
            "21/21 [==============================] - 0s 3ms/step - loss: 0.5830 - accuracy: 0.6938\n",
            "Epoch 36/100\n",
            "21/21 [==============================] - 0s 2ms/step - loss: 0.5817 - accuracy: 0.6953\n",
            "Epoch 37/100\n",
            "21/21 [==============================] - 0s 2ms/step - loss: 0.5805 - accuracy: 0.6981\n",
            "Epoch 38/100\n",
            "21/21 [==============================] - 0s 2ms/step - loss: 0.5795 - accuracy: 0.7002\n",
            "Epoch 39/100\n",
            "21/21 [==============================] - 0s 2ms/step - loss: 0.5786 - accuracy: 0.7038\n",
            "Epoch 40/100\n",
            "21/21 [==============================] - 0s 2ms/step - loss: 0.5774 - accuracy: 0.7038\n",
            "Epoch 41/100\n",
            "21/21 [==============================] - 0s 2ms/step - loss: 0.5764 - accuracy: 0.7016\n",
            "Epoch 42/100\n",
            "21/21 [==============================] - 0s 2ms/step - loss: 0.5755 - accuracy: 0.7052\n",
            "Epoch 43/100\n",
            "21/21 [==============================] - 0s 2ms/step - loss: 0.5751 - accuracy: 0.7059\n",
            "Epoch 44/100\n",
            "21/21 [==============================] - 0s 2ms/step - loss: 0.5740 - accuracy: 0.7059\n",
            "Epoch 45/100\n",
            "21/21 [==============================] - 0s 2ms/step - loss: 0.5732 - accuracy: 0.7087\n",
            "Epoch 46/100\n",
            "21/21 [==============================] - 0s 2ms/step - loss: 0.5721 - accuracy: 0.7059\n",
            "Epoch 47/100\n",
            "21/21 [==============================] - 0s 2ms/step - loss: 0.5720 - accuracy: 0.7087\n",
            "Epoch 48/100\n",
            "21/21 [==============================] - 0s 2ms/step - loss: 0.5709 - accuracy: 0.7101\n",
            "Epoch 49/100\n",
            "21/21 [==============================] - 0s 2ms/step - loss: 0.5702 - accuracy: 0.7094\n",
            "Epoch 50/100\n",
            "21/21 [==============================] - 0s 2ms/step - loss: 0.5696 - accuracy: 0.7094\n",
            "Epoch 51/100\n",
            "21/21 [==============================] - 0s 2ms/step - loss: 0.5688 - accuracy: 0.7116\n",
            "Epoch 52/100\n",
            "21/21 [==============================] - 0s 2ms/step - loss: 0.5683 - accuracy: 0.7087\n",
            "Epoch 53/100\n",
            "21/21 [==============================] - 0s 2ms/step - loss: 0.5674 - accuracy: 0.7094\n",
            "Epoch 54/100\n",
            "21/21 [==============================] - 0s 2ms/step - loss: 0.5668 - accuracy: 0.7094\n",
            "Epoch 55/100\n",
            "21/21 [==============================] - 0s 2ms/step - loss: 0.5662 - accuracy: 0.7073\n",
            "Epoch 56/100\n",
            "21/21 [==============================] - 0s 2ms/step - loss: 0.5651 - accuracy: 0.7087\n",
            "Epoch 57/100\n",
            "21/21 [==============================] - 0s 2ms/step - loss: 0.5652 - accuracy: 0.7137\n",
            "Epoch 58/100\n",
            "21/21 [==============================] - 0s 2ms/step - loss: 0.5641 - accuracy: 0.7080\n",
            "Epoch 59/100\n",
            "21/21 [==============================] - 0s 2ms/step - loss: 0.5633 - accuracy: 0.7073\n",
            "Epoch 60/100\n",
            "21/21 [==============================] - 0s 2ms/step - loss: 0.5631 - accuracy: 0.7137\n",
            "Epoch 61/100\n",
            "21/21 [==============================] - 0s 2ms/step - loss: 0.5622 - accuracy: 0.7108\n",
            "Epoch 62/100\n",
            "21/21 [==============================] - 0s 2ms/step - loss: 0.5613 - accuracy: 0.7130\n",
            "Epoch 63/100\n",
            "21/21 [==============================] - 0s 2ms/step - loss: 0.5608 - accuracy: 0.7123\n",
            "Epoch 64/100\n",
            "21/21 [==============================] - 0s 2ms/step - loss: 0.5604 - accuracy: 0.7123\n",
            "Epoch 65/100\n",
            "21/21 [==============================] - 0s 2ms/step - loss: 0.5594 - accuracy: 0.7144\n",
            "Epoch 66/100\n",
            "21/21 [==============================] - 0s 2ms/step - loss: 0.5587 - accuracy: 0.7151\n",
            "Epoch 67/100\n",
            "21/21 [==============================] - 0s 2ms/step - loss: 0.5582 - accuracy: 0.7165\n",
            "Epoch 68/100\n",
            "21/21 [==============================] - 0s 2ms/step - loss: 0.5578 - accuracy: 0.7172\n",
            "Epoch 69/100\n",
            "21/21 [==============================] - 0s 2ms/step - loss: 0.5571 - accuracy: 0.7165\n",
            "Epoch 70/100\n",
            "21/21 [==============================] - 0s 2ms/step - loss: 0.5566 - accuracy: 0.7144\n",
            "Epoch 71/100\n",
            "21/21 [==============================] - 0s 2ms/step - loss: 0.5563 - accuracy: 0.7236\n",
            "Epoch 72/100\n",
            "21/21 [==============================] - 0s 2ms/step - loss: 0.5560 - accuracy: 0.7165\n",
            "Epoch 73/100\n",
            "21/21 [==============================] - 0s 2ms/step - loss: 0.5546 - accuracy: 0.7208\n",
            "Epoch 74/100\n",
            "21/21 [==============================] - 0s 2ms/step - loss: 0.5542 - accuracy: 0.7208\n",
            "Epoch 75/100\n",
            "21/21 [==============================] - 0s 2ms/step - loss: 0.5534 - accuracy: 0.7193\n",
            "Epoch 76/100\n",
            "21/21 [==============================] - 0s 2ms/step - loss: 0.5528 - accuracy: 0.7215\n",
            "Epoch 77/100\n",
            "21/21 [==============================] - 0s 2ms/step - loss: 0.5523 - accuracy: 0.7201\n",
            "Epoch 78/100\n",
            "21/21 [==============================] - 0s 2ms/step - loss: 0.5517 - accuracy: 0.7215\n",
            "Epoch 79/100\n",
            "21/21 [==============================] - 0s 2ms/step - loss: 0.5514 - accuracy: 0.7193\n",
            "Epoch 80/100\n",
            "21/21 [==============================] - 0s 2ms/step - loss: 0.5508 - accuracy: 0.7208\n",
            "Epoch 81/100\n",
            "21/21 [==============================] - 0s 2ms/step - loss: 0.5504 - accuracy: 0.7193\n",
            "Epoch 82/100\n",
            "21/21 [==============================] - 0s 2ms/step - loss: 0.5499 - accuracy: 0.7215\n",
            "Epoch 83/100\n",
            "21/21 [==============================] - 0s 2ms/step - loss: 0.5492 - accuracy: 0.7208\n",
            "Epoch 84/100\n",
            "21/21 [==============================] - 0s 2ms/step - loss: 0.5487 - accuracy: 0.7215\n",
            "Epoch 85/100\n",
            "21/21 [==============================] - 0s 2ms/step - loss: 0.5485 - accuracy: 0.7243\n",
            "Epoch 86/100\n",
            "21/21 [==============================] - 0s 2ms/step - loss: 0.5478 - accuracy: 0.7222\n",
            "Epoch 87/100\n",
            "21/21 [==============================] - 0s 2ms/step - loss: 0.5474 - accuracy: 0.7264\n",
            "Epoch 88/100\n",
            "21/21 [==============================] - 0s 2ms/step - loss: 0.5468 - accuracy: 0.7243\n",
            "Epoch 89/100\n",
            "21/21 [==============================] - 0s 2ms/step - loss: 0.5460 - accuracy: 0.7257\n",
            "Epoch 90/100\n",
            "21/21 [==============================] - 0s 2ms/step - loss: 0.5458 - accuracy: 0.7279\n",
            "Epoch 91/100\n",
            "21/21 [==============================] - 0s 2ms/step - loss: 0.5453 - accuracy: 0.7293\n",
            "Epoch 92/100\n",
            "21/21 [==============================] - 0s 3ms/step - loss: 0.5449 - accuracy: 0.7328\n",
            "Epoch 93/100\n",
            "21/21 [==============================] - 0s 2ms/step - loss: 0.5442 - accuracy: 0.7300\n",
            "Epoch 94/100\n",
            "21/21 [==============================] - 0s 2ms/step - loss: 0.5438 - accuracy: 0.7321\n",
            "Epoch 95/100\n",
            "21/21 [==============================] - 0s 2ms/step - loss: 0.5436 - accuracy: 0.7300\n",
            "Epoch 96/100\n",
            "21/21 [==============================] - 0s 2ms/step - loss: 0.5432 - accuracy: 0.7293\n",
            "Epoch 97/100\n",
            "21/21 [==============================] - 0s 2ms/step - loss: 0.5425 - accuracy: 0.7314\n",
            "Epoch 98/100\n",
            "21/21 [==============================] - 0s 2ms/step - loss: 0.5423 - accuracy: 0.7314\n",
            "Epoch 99/100\n",
            "21/21 [==============================] - 0s 2ms/step - loss: 0.5414 - accuracy: 0.7314\n",
            "Epoch 100/100\n",
            "21/21 [==============================] - 0s 2ms/step - loss: 0.5410 - accuracy: 0.7314\n"
          ]
        }
      ]
    },
    {
      "cell_type": "code",
      "metadata": {
        "id": "SdTGhaxvt9IM"
      },
      "source": [
        "y_pred = model_spotify.predict(X_test)"
      ],
      "execution_count": 95,
      "outputs": []
    },
    {
      "cell_type": "code",
      "metadata": {
        "id": "y41tht7Jhltr"
      },
      "source": [
        "#Avaliação do Modelo\n",
        "\n",
        "y_pred_classes = (y_pred > 0.5)"
      ],
      "execution_count": 96,
      "outputs": []
    },
    {
      "cell_type": "code",
      "metadata": {
        "id": "YWcNbo7RdedQ"
      },
      "source": [
        "y_pred = model_spotify.predict(X_test)\n",
        "\n"
      ],
      "execution_count": 97,
      "outputs": []
    },
    {
      "cell_type": "code",
      "metadata": {
        "id": "rO_Ns5gzdiXM",
        "colab": {
          "base_uri": "https://localhost:8080/"
        },
        "outputId": "55a50e86-6949-4d43-fb41-f6b805320c5a"
      },
      "source": [
        "scores = model_spotify.evaluate(X_test,y_test)\n",
        "print(scores)"
      ],
      "execution_count": 98,
      "outputs": [
        {
          "output_type": "stream",
          "name": "stdout",
          "text": [
            "19/19 [==============================] - 0s 2ms/step - loss: 0.6040 - accuracy: 0.6881\n",
            "[0.6040144562721252, 0.6881188154220581]\n"
          ]
        }
      ]
    },
    {
      "cell_type": "code",
      "metadata": {
        "colab": {
          "base_uri": "https://localhost:8080/"
        },
        "id": "IKqJqQQTsxBs",
        "outputId": "abe6c673-8a6a-471f-cda7-dd3ee66a3660"
      },
      "source": [
        "model_spotify.metrics_names\n"
      ],
      "execution_count": 99,
      "outputs": [
        {
          "output_type": "execute_result",
          "data": {
            "text/plain": [
              "['loss', 'accuracy']"
            ]
          },
          "metadata": {},
          "execution_count": 99
        }
      ]
    },
    {
      "cell_type": "code",
      "metadata": {
        "id": "3WdhT5N-s6k9"
      },
      "source": [
        ""
      ],
      "execution_count": 99,
      "outputs": []
    }
  ]
}